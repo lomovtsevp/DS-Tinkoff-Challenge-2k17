{
  "nbformat": 4,
  "nbformat_minor": 0,
  "metadata": {
    "colab": {
      "name": "stats_PR1.ipynb",
      "provenance": [],
      "collapsed_sections": [],
      "authorship_tag": "ABX9TyMiEUInQVsXKOG8uPK8tNZe",
      "include_colab_link": true
    },
    "kernelspec": {
      "name": "python3",
      "display_name": "Python 3"
    },
    "language_info": {
      "name": "python"
    }
  },
  "cells": [
    {
      "cell_type": "markdown",
      "metadata": {
        "id": "view-in-github",
        "colab_type": "text"
      },
      "source": [
        "<a href=\"https://colab.research.google.com/github/lompas10/DS-Tinkoff-Challenge-2k17/blob/main/1/stats_PR1.ipynb\" target=\"_parent\"><img src=\"https://colab.research.google.com/assets/colab-badge.svg\" alt=\"Open In Colab\"/></a>"
      ]
    },
    {
      "cell_type": "code",
      "metadata": {
        "id": "WWv-bt8qKaIZ"
      },
      "source": [
        "import pandas as pd\n",
        "import numpy as np\n",
        "from matplotlib import pyplot as plt\n",
        "import matplotlib\n",
        "%matplotlib inline\n",
        "matplotlib.rcParams['figure.figsize'] = (5, 5)"
      ],
      "execution_count": 1,
      "outputs": []
    },
    {
      "cell_type": "code",
      "metadata": {
        "id": "nxeIHCuzKiR2"
      },
      "source": [
        "data = pd.read_csv('/content/Мат.Статистика - Лист1.csv')"
      ],
      "execution_count": 2,
      "outputs": []
    },
    {
      "cell_type": "code",
      "metadata": {
        "colab": {
          "base_uri": "https://localhost:8080/",
          "height": 304
        },
        "id": "sbB8OvbfLL8o",
        "outputId": "ff7c87d2-63c2-4005-d822-01a59b031859"
      },
      "source": [
        "data.head()"
      ],
      "execution_count": 3,
      "outputs": [
        {
          "output_type": "execute_result",
          "data": {
            "text/html": [
              "<div>\n",
              "<style scoped>\n",
              "    .dataframe tbody tr th:only-of-type {\n",
              "        vertical-align: middle;\n",
              "    }\n",
              "\n",
              "    .dataframe tbody tr th {\n",
              "        vertical-align: top;\n",
              "    }\n",
              "\n",
              "    .dataframe thead th {\n",
              "        text-align: right;\n",
              "    }\n",
              "</style>\n",
              "<table border=\"1\" class=\"dataframe\">\n",
              "  <thead>\n",
              "    <tr style=\"text-align: right;\">\n",
              "      <th></th>\n",
              "      <th>id</th>\n",
              "      <th>Name</th>\n",
              "      <th>height</th>\n",
              "      <th>random_number</th>\n",
              "      <th>month_of_birth</th>\n",
              "      <th>Unnamed: 5</th>\n",
              "      <th>Unnamed: 6</th>\n",
              "      <th>Unnamed: 7</th>\n",
              "      <th>Unnamed: 8</th>\n",
              "      <th>Unnamed: 9</th>\n",
              "      <th>Unnamed: 10</th>\n",
              "      <th>Unnamed: 11</th>\n",
              "    </tr>\n",
              "  </thead>\n",
              "  <tbody>\n",
              "    <tr>\n",
              "      <th>0</th>\n",
              "      <td>1</td>\n",
              "      <td>Базанова Дарья Владимировна</td>\n",
              "      <td>162.0</td>\n",
              "      <td>2.0</td>\n",
              "      <td>1.0</td>\n",
              "      <td>NaN</td>\n",
              "      <td>NaN</td>\n",
              "      <td>NaN</td>\n",
              "      <td>NaN</td>\n",
              "      <td>NaN</td>\n",
              "      <td>NaN</td>\n",
              "      <td>NaN</td>\n",
              "    </tr>\n",
              "    <tr>\n",
              "      <th>1</th>\n",
              "      <td>2</td>\n",
              "      <td>Байгускаров Данияр Шакирьянович</td>\n",
              "      <td>180.0</td>\n",
              "      <td>4.0</td>\n",
              "      <td>2.0</td>\n",
              "      <td>NaN</td>\n",
              "      <td>NaN</td>\n",
              "      <td>NaN</td>\n",
              "      <td>NaN</td>\n",
              "      <td>NaN</td>\n",
              "      <td>NaN</td>\n",
              "      <td>NaN</td>\n",
              "    </tr>\n",
              "    <tr>\n",
              "      <th>2</th>\n",
              "      <td>3</td>\n",
              "      <td>Балобин Дмитрий Юрьевич</td>\n",
              "      <td>169.0</td>\n",
              "      <td>7.0</td>\n",
              "      <td>3.0</td>\n",
              "      <td>NaN</td>\n",
              "      <td>NaN</td>\n",
              "      <td>NaN</td>\n",
              "      <td>NaN</td>\n",
              "      <td>NaN</td>\n",
              "      <td>NaN</td>\n",
              "      <td>NaN</td>\n",
              "    </tr>\n",
              "    <tr>\n",
              "      <th>3</th>\n",
              "      <td>4</td>\n",
              "      <td>Борисов Алексей Михайлович</td>\n",
              "      <td>180.0</td>\n",
              "      <td>3.0</td>\n",
              "      <td>2.0</td>\n",
              "      <td>NaN</td>\n",
              "      <td>NaN</td>\n",
              "      <td>NaN</td>\n",
              "      <td>NaN</td>\n",
              "      <td>NaN</td>\n",
              "      <td>NaN</td>\n",
              "      <td>NaN</td>\n",
              "    </tr>\n",
              "    <tr>\n",
              "      <th>4</th>\n",
              "      <td>5</td>\n",
              "      <td>Брэдеску Мария Романовна</td>\n",
              "      <td>NaN</td>\n",
              "      <td>NaN</td>\n",
              "      <td>NaN</td>\n",
              "      <td>NaN</td>\n",
              "      <td>NaN</td>\n",
              "      <td>NaN</td>\n",
              "      <td>NaN</td>\n",
              "      <td>NaN</td>\n",
              "      <td>NaN</td>\n",
              "      <td>NaN</td>\n",
              "    </tr>\n",
              "  </tbody>\n",
              "</table>\n",
              "</div>"
            ],
            "text/plain": [
              "   id                             Name  ...  Unnamed: 10  Unnamed: 11\n",
              "0   1      Базанова Дарья Владимировна  ...          NaN          NaN\n",
              "1   2  Байгускаров Данияр Шакирьянович  ...          NaN          NaN\n",
              "2   3          Балобин Дмитрий Юрьевич  ...          NaN          NaN\n",
              "3   4       Борисов Алексей Михайлович  ...          NaN          NaN\n",
              "4   5         Брэдеску Мария Романовна  ...          NaN          NaN\n",
              "\n",
              "[5 rows x 12 columns]"
            ]
          },
          "metadata": {},
          "execution_count": 3
        }
      ]
    },
    {
      "cell_type": "code",
      "metadata": {
        "id": "VcDymTdWL1JZ"
      },
      "source": [
        "data = data.iloc[:, 0:5]"
      ],
      "execution_count": 4,
      "outputs": []
    },
    {
      "cell_type": "code",
      "metadata": {
        "id": "MDpW4DymL_OH"
      },
      "source": [
        "data = data.dropna(0)"
      ],
      "execution_count": 5,
      "outputs": []
    },
    {
      "cell_type": "code",
      "metadata": {
        "colab": {
          "base_uri": "https://localhost:8080/",
          "height": 634
        },
        "id": "5La-YRqeMMJR",
        "outputId": "2c34ff1b-28eb-46a2-a3c7-2d4756bf5121"
      },
      "source": [
        "data"
      ],
      "execution_count": 6,
      "outputs": [
        {
          "output_type": "execute_result",
          "data": {
            "text/html": [
              "<div>\n",
              "<style scoped>\n",
              "    .dataframe tbody tr th:only-of-type {\n",
              "        vertical-align: middle;\n",
              "    }\n",
              "\n",
              "    .dataframe tbody tr th {\n",
              "        vertical-align: top;\n",
              "    }\n",
              "\n",
              "    .dataframe thead th {\n",
              "        text-align: right;\n",
              "    }\n",
              "</style>\n",
              "<table border=\"1\" class=\"dataframe\">\n",
              "  <thead>\n",
              "    <tr style=\"text-align: right;\">\n",
              "      <th></th>\n",
              "      <th>id</th>\n",
              "      <th>Name</th>\n",
              "      <th>height</th>\n",
              "      <th>random_number</th>\n",
              "      <th>month_of_birth</th>\n",
              "    </tr>\n",
              "  </thead>\n",
              "  <tbody>\n",
              "    <tr>\n",
              "      <th>0</th>\n",
              "      <td>1</td>\n",
              "      <td>Базанова Дарья Владимировна</td>\n",
              "      <td>162.0</td>\n",
              "      <td>2.0</td>\n",
              "      <td>1.0</td>\n",
              "    </tr>\n",
              "    <tr>\n",
              "      <th>1</th>\n",
              "      <td>2</td>\n",
              "      <td>Байгускаров Данияр Шакирьянович</td>\n",
              "      <td>180.0</td>\n",
              "      <td>4.0</td>\n",
              "      <td>2.0</td>\n",
              "    </tr>\n",
              "    <tr>\n",
              "      <th>2</th>\n",
              "      <td>3</td>\n",
              "      <td>Балобин Дмитрий Юрьевич</td>\n",
              "      <td>169.0</td>\n",
              "      <td>7.0</td>\n",
              "      <td>3.0</td>\n",
              "    </tr>\n",
              "    <tr>\n",
              "      <th>3</th>\n",
              "      <td>4</td>\n",
              "      <td>Борисов Алексей Михайлович</td>\n",
              "      <td>180.0</td>\n",
              "      <td>3.0</td>\n",
              "      <td>2.0</td>\n",
              "    </tr>\n",
              "    <tr>\n",
              "      <th>5</th>\n",
              "      <td>6</td>\n",
              "      <td>Власов Виктор Сергеевич</td>\n",
              "      <td>183.0</td>\n",
              "      <td>4.0</td>\n",
              "      <td>8.0</td>\n",
              "    </tr>\n",
              "    <tr>\n",
              "      <th>6</th>\n",
              "      <td>7</td>\n",
              "      <td>Денисова Виктория Михайловна</td>\n",
              "      <td>166.0</td>\n",
              "      <td>7.0</td>\n",
              "      <td>5.0</td>\n",
              "    </tr>\n",
              "    <tr>\n",
              "      <th>7</th>\n",
              "      <td>8</td>\n",
              "      <td>Жаров Всеволод Валерьевич</td>\n",
              "      <td>178.0</td>\n",
              "      <td>3.0</td>\n",
              "      <td>2.0</td>\n",
              "    </tr>\n",
              "    <tr>\n",
              "      <th>8</th>\n",
              "      <td>9</td>\n",
              "      <td>Котельник Вячеслав Евгеньевич</td>\n",
              "      <td>180.0</td>\n",
              "      <td>5.0</td>\n",
              "      <td>7.0</td>\n",
              "    </tr>\n",
              "    <tr>\n",
              "      <th>10</th>\n",
              "      <td>11</td>\n",
              "      <td>Ломовцев Павел Павлович</td>\n",
              "      <td>180.0</td>\n",
              "      <td>5.0</td>\n",
              "      <td>10.0</td>\n",
              "    </tr>\n",
              "    <tr>\n",
              "      <th>11</th>\n",
              "      <td>12</td>\n",
              "      <td>Любимов Андрей Игоревич</td>\n",
              "      <td>174.0</td>\n",
              "      <td>4.0</td>\n",
              "      <td>12.0</td>\n",
              "    </tr>\n",
              "    <tr>\n",
              "      <th>12</th>\n",
              "      <td>13</td>\n",
              "      <td>Масякин Дмитрий Михайлович</td>\n",
              "      <td>184.0</td>\n",
              "      <td>7.0</td>\n",
              "      <td>8.0</td>\n",
              "    </tr>\n",
              "    <tr>\n",
              "      <th>13</th>\n",
              "      <td>14</td>\n",
              "      <td>Монахова Анастасия Анатольевна</td>\n",
              "      <td>162.0</td>\n",
              "      <td>3.0</td>\n",
              "      <td>1.0</td>\n",
              "    </tr>\n",
              "    <tr>\n",
              "      <th>14</th>\n",
              "      <td>15</td>\n",
              "      <td>Мухов Николай Николаевич</td>\n",
              "      <td>182.0</td>\n",
              "      <td>4.0</td>\n",
              "      <td>12.0</td>\n",
              "    </tr>\n",
              "    <tr>\n",
              "      <th>15</th>\n",
              "      <td>16</td>\n",
              "      <td>Разлуцкий Владимир Игоревич</td>\n",
              "      <td>190.0</td>\n",
              "      <td>2.0</td>\n",
              "      <td>4.0</td>\n",
              "    </tr>\n",
              "    <tr>\n",
              "      <th>16</th>\n",
              "      <td>17</td>\n",
              "      <td>Сураев Вадим Евгеньевич</td>\n",
              "      <td>188.0</td>\n",
              "      <td>5.0</td>\n",
              "      <td>10.0</td>\n",
              "    </tr>\n",
              "    <tr>\n",
              "      <th>17</th>\n",
              "      <td>18</td>\n",
              "      <td>Троегубов Арсений Николаевич</td>\n",
              "      <td>179.0</td>\n",
              "      <td>7.0</td>\n",
              "      <td>1.0</td>\n",
              "    </tr>\n",
              "    <tr>\n",
              "      <th>18</th>\n",
              "      <td>19</td>\n",
              "      <td>Царёв Илья Александрович</td>\n",
              "      <td>188.0</td>\n",
              "      <td>4.0</td>\n",
              "      <td>9.0</td>\n",
              "    </tr>\n",
              "    <tr>\n",
              "      <th>19</th>\n",
              "      <td>20</td>\n",
              "      <td>Царьков Даниил Викторович</td>\n",
              "      <td>181.0</td>\n",
              "      <td>7.0</td>\n",
              "      <td>9.0</td>\n",
              "    </tr>\n",
              "    <tr>\n",
              "      <th>20</th>\n",
              "      <td>21</td>\n",
              "      <td>Чалова Ирина Леонидовна</td>\n",
              "      <td>167.0</td>\n",
              "      <td>3.0</td>\n",
              "      <td>2.0</td>\n",
              "    </tr>\n",
              "  </tbody>\n",
              "</table>\n",
              "</div>"
            ],
            "text/plain": [
              "    id                             Name  height  random_number  month_of_birth\n",
              "0    1      Базанова Дарья Владимировна   162.0            2.0             1.0\n",
              "1    2  Байгускаров Данияр Шакирьянович   180.0            4.0             2.0\n",
              "2    3          Балобин Дмитрий Юрьевич   169.0            7.0             3.0\n",
              "3    4       Борисов Алексей Михайлович   180.0            3.0             2.0\n",
              "5    6          Власов Виктор Сергеевич   183.0            4.0             8.0\n",
              "6    7     Денисова Виктория Михайловна   166.0            7.0             5.0\n",
              "7    8        Жаров Всеволод Валерьевич   178.0            3.0             2.0\n",
              "8    9    Котельник Вячеслав Евгеньевич   180.0            5.0             7.0\n",
              "10  11          Ломовцев Павел Павлович   180.0            5.0            10.0\n",
              "11  12          Любимов Андрей Игоревич   174.0            4.0            12.0\n",
              "12  13       Масякин Дмитрий Михайлович   184.0            7.0             8.0\n",
              "13  14   Монахова Анастасия Анатольевна   162.0            3.0             1.0\n",
              "14  15         Мухов Николай Николаевич   182.0            4.0            12.0\n",
              "15  16      Разлуцкий Владимир Игоревич   190.0            2.0             4.0\n",
              "16  17          Сураев Вадим Евгеньевич   188.0            5.0            10.0\n",
              "17  18     Троегубов Арсений Николаевич   179.0            7.0             1.0\n",
              "18  19         Царёв Илья Александрович   188.0            4.0             9.0\n",
              "19  20        Царьков Даниил Викторович   181.0            7.0             9.0\n",
              "20  21          Чалова Ирина Леонидовна   167.0            3.0             2.0"
            ]
          },
          "metadata": {},
          "execution_count": 6
        }
      ]
    },
    {
      "cell_type": "code",
      "metadata": {
        "id": "JM5ff_zCMMyS"
      },
      "source": [
        "var_range_number = pd.DataFrame({'count' : data.random_number.value_counts()}).reset_index()\n",
        "var_range_month = pd.DataFrame({'count' : data.month_of_birth.value_counts()}).reset_index()"
      ],
      "execution_count": 7,
      "outputs": []
    },
    {
      "cell_type": "code",
      "metadata": {
        "id": "AAq5kKwsN_Dd"
      },
      "source": [
        "var_range_number = var_range_number.sort_values('index').astype('int64')\n",
        "var_range_month = var_range_month.sort_values('index').astype('int64')"
      ],
      "execution_count": 8,
      "outputs": []
    },
    {
      "cell_type": "code",
      "metadata": {
        "colab": {
          "base_uri": "https://localhost:8080/",
          "height": 110
        },
        "id": "QSMtypL9RG3M",
        "outputId": "7b6a5053-f33e-4ad9-9ee3-b7152cdd9acf"
      },
      "source": [
        "var_range_number.T"
      ],
      "execution_count": 9,
      "outputs": [
        {
          "output_type": "execute_result",
          "data": {
            "text/html": [
              "<div>\n",
              "<style scoped>\n",
              "    .dataframe tbody tr th:only-of-type {\n",
              "        vertical-align: middle;\n",
              "    }\n",
              "\n",
              "    .dataframe tbody tr th {\n",
              "        vertical-align: top;\n",
              "    }\n",
              "\n",
              "    .dataframe thead th {\n",
              "        text-align: right;\n",
              "    }\n",
              "</style>\n",
              "<table border=\"1\" class=\"dataframe\">\n",
              "  <thead>\n",
              "    <tr style=\"text-align: right;\">\n",
              "      <th></th>\n",
              "      <th>4</th>\n",
              "      <th>2</th>\n",
              "      <th>1</th>\n",
              "      <th>3</th>\n",
              "      <th>0</th>\n",
              "    </tr>\n",
              "  </thead>\n",
              "  <tbody>\n",
              "    <tr>\n",
              "      <th>index</th>\n",
              "      <td>2</td>\n",
              "      <td>3</td>\n",
              "      <td>4</td>\n",
              "      <td>5</td>\n",
              "      <td>7</td>\n",
              "    </tr>\n",
              "    <tr>\n",
              "      <th>count</th>\n",
              "      <td>2</td>\n",
              "      <td>4</td>\n",
              "      <td>5</td>\n",
              "      <td>3</td>\n",
              "      <td>5</td>\n",
              "    </tr>\n",
              "  </tbody>\n",
              "</table>\n",
              "</div>"
            ],
            "text/plain": [
              "       4  2  1  3  0\n",
              "index  2  3  4  5  7\n",
              "count  2  4  5  3  5"
            ]
          },
          "metadata": {},
          "execution_count": 9
        }
      ]
    },
    {
      "cell_type": "code",
      "metadata": {
        "colab": {
          "base_uri": "https://localhost:8080/",
          "height": 110
        },
        "id": "El6rAR1Yabgx",
        "outputId": "18624616-e530-410e-bb77-04d2f239e600"
      },
      "source": [
        "var_range_month.T"
      ],
      "execution_count": 10,
      "outputs": [
        {
          "output_type": "execute_result",
          "data": {
            "text/html": [
              "<div>\n",
              "<style scoped>\n",
              "    .dataframe tbody tr th:only-of-type {\n",
              "        vertical-align: middle;\n",
              "    }\n",
              "\n",
              "    .dataframe tbody tr th {\n",
              "        vertical-align: top;\n",
              "    }\n",
              "\n",
              "    .dataframe thead th {\n",
              "        text-align: right;\n",
              "    }\n",
              "</style>\n",
              "<table border=\"1\" class=\"dataframe\">\n",
              "  <thead>\n",
              "    <tr style=\"text-align: right;\">\n",
              "      <th></th>\n",
              "      <th>1</th>\n",
              "      <th>0</th>\n",
              "      <th>9</th>\n",
              "      <th>6</th>\n",
              "      <th>8</th>\n",
              "      <th>7</th>\n",
              "      <th>5</th>\n",
              "      <th>2</th>\n",
              "      <th>4</th>\n",
              "      <th>3</th>\n",
              "    </tr>\n",
              "  </thead>\n",
              "  <tbody>\n",
              "    <tr>\n",
              "      <th>index</th>\n",
              "      <td>1</td>\n",
              "      <td>2</td>\n",
              "      <td>3</td>\n",
              "      <td>4</td>\n",
              "      <td>5</td>\n",
              "      <td>7</td>\n",
              "      <td>8</td>\n",
              "      <td>9</td>\n",
              "      <td>10</td>\n",
              "      <td>12</td>\n",
              "    </tr>\n",
              "    <tr>\n",
              "      <th>count</th>\n",
              "      <td>3</td>\n",
              "      <td>4</td>\n",
              "      <td>1</td>\n",
              "      <td>1</td>\n",
              "      <td>1</td>\n",
              "      <td>1</td>\n",
              "      <td>2</td>\n",
              "      <td>2</td>\n",
              "      <td>2</td>\n",
              "      <td>2</td>\n",
              "    </tr>\n",
              "  </tbody>\n",
              "</table>\n",
              "</div>"
            ],
            "text/plain": [
              "       1  0  9  6  8  7  5  2   4   3\n",
              "index  1  2  3  4  5  7  8  9  10  12\n",
              "count  3  4  1  1  1  1  2  2   2   2"
            ]
          },
          "metadata": {},
          "execution_count": 10
        }
      ]
    },
    {
      "cell_type": "code",
      "metadata": {
        "id": "NbdwTRgnOvhY"
      },
      "source": [
        "def relative_freq(column):\n",
        "  return column / sum(column)"
      ],
      "execution_count": 11,
      "outputs": []
    },
    {
      "cell_type": "code",
      "metadata": {
        "id": "9wxi57KXPm1Z",
        "colab": {
          "base_uri": "https://localhost:8080/",
          "height": 203
        },
        "outputId": "e1a5f8ab-c111-4769-fd28-289bcc1deb4d"
      },
      "source": [
        "freq_number = pd.DataFrame({'Число' : var_range_number['index'].astype('int64'),\n",
        "                     'Относительная частота' : relative_freq(var_range_number['count']).values})\n",
        "freq_number"
      ],
      "execution_count": 12,
      "outputs": [
        {
          "output_type": "execute_result",
          "data": {
            "text/html": [
              "<div>\n",
              "<style scoped>\n",
              "    .dataframe tbody tr th:only-of-type {\n",
              "        vertical-align: middle;\n",
              "    }\n",
              "\n",
              "    .dataframe tbody tr th {\n",
              "        vertical-align: top;\n",
              "    }\n",
              "\n",
              "    .dataframe thead th {\n",
              "        text-align: right;\n",
              "    }\n",
              "</style>\n",
              "<table border=\"1\" class=\"dataframe\">\n",
              "  <thead>\n",
              "    <tr style=\"text-align: right;\">\n",
              "      <th></th>\n",
              "      <th>Число</th>\n",
              "      <th>Относительная частота</th>\n",
              "    </tr>\n",
              "  </thead>\n",
              "  <tbody>\n",
              "    <tr>\n",
              "      <th>4</th>\n",
              "      <td>2</td>\n",
              "      <td>0.105263</td>\n",
              "    </tr>\n",
              "    <tr>\n",
              "      <th>2</th>\n",
              "      <td>3</td>\n",
              "      <td>0.210526</td>\n",
              "    </tr>\n",
              "    <tr>\n",
              "      <th>1</th>\n",
              "      <td>4</td>\n",
              "      <td>0.263158</td>\n",
              "    </tr>\n",
              "    <tr>\n",
              "      <th>3</th>\n",
              "      <td>5</td>\n",
              "      <td>0.157895</td>\n",
              "    </tr>\n",
              "    <tr>\n",
              "      <th>0</th>\n",
              "      <td>7</td>\n",
              "      <td>0.263158</td>\n",
              "    </tr>\n",
              "  </tbody>\n",
              "</table>\n",
              "</div>"
            ],
            "text/plain": [
              "   Число  Относительная частота\n",
              "4      2               0.105263\n",
              "2      3               0.210526\n",
              "1      4               0.263158\n",
              "3      5               0.157895\n",
              "0      7               0.263158"
            ]
          },
          "metadata": {},
          "execution_count": 12
        }
      ]
    },
    {
      "cell_type": "code",
      "metadata": {
        "id": "NYr8h2wLaFYw",
        "colab": {
          "base_uri": "https://localhost:8080/",
          "height": 295
        },
        "outputId": "fac52aba-a838-41fc-c166-e3f469831e34"
      },
      "source": [
        "plt.xlabel('Значения')\n",
        "plt.ylabel('Относительные частоты')\n",
        "plt.title('Полигон распределения относительных частот случайного числа')\n",
        "plt.plot(freq_number['Число'], freq_number['Относительная частота'], '-.*');"
      ],
      "execution_count": 14,
      "outputs": [
        {
          "output_type": "display_data",
          "data": {
            "image/png": "[encoded data removed]",
            "text/plain": [
              "<Figure size 432x288 with 1 Axes>"
            ]
          },
          "metadata": {
            "needs_background": "light"
          }
        }
      ]
    },
    {
      "cell_type": "code",
      "metadata": {
        "id": "xLBQsWSfayIZ"
      },
      "source": [
        "freq_month = pd.DataFrame({'value' : var_range_month['index'],\n",
        "                     'freq_month' : relative_freq(var_range_month['count']).values})"
      ],
      "execution_count": 15,
      "outputs": []
    },
    {
      "cell_type": "code",
      "metadata": {
        "id": "3JiDvBwvbqCi",
        "colab": {
          "base_uri": "https://localhost:8080/",
          "height": 357
        },
        "outputId": "572d3e1a-443c-4d75-e2e0-6ea0dbf0c500"
      },
      "source": [
        "freq_month"
      ],
      "execution_count": 16,
      "outputs": [
        {
          "output_type": "execute_result",
          "data": {
            "text/html": [
              "<div>\n",
              "<style scoped>\n",
              "    .dataframe tbody tr th:only-of-type {\n",
              "        vertical-align: middle;\n",
              "    }\n",
              "\n",
              "    .dataframe tbody tr th {\n",
              "        vertical-align: top;\n",
              "    }\n",
              "\n",
              "    .dataframe thead th {\n",
              "        text-align: right;\n",
              "    }\n",
              "</style>\n",
              "<table border=\"1\" class=\"dataframe\">\n",
              "  <thead>\n",
              "    <tr style=\"text-align: right;\">\n",
              "      <th></th>\n",
              "      <th>value</th>\n",
              "      <th>freq_month</th>\n",
              "    </tr>\n",
              "  </thead>\n",
              "  <tbody>\n",
              "    <tr>\n",
              "      <th>1</th>\n",
              "      <td>1</td>\n",
              "      <td>0.157895</td>\n",
              "    </tr>\n",
              "    <tr>\n",
              "      <th>0</th>\n",
              "      <td>2</td>\n",
              "      <td>0.210526</td>\n",
              "    </tr>\n",
              "    <tr>\n",
              "      <th>9</th>\n",
              "      <td>3</td>\n",
              "      <td>0.052632</td>\n",
              "    </tr>\n",
              "    <tr>\n",
              "      <th>6</th>\n",
              "      <td>4</td>\n",
              "      <td>0.052632</td>\n",
              "    </tr>\n",
              "    <tr>\n",
              "      <th>8</th>\n",
              "      <td>5</td>\n",
              "      <td>0.052632</td>\n",
              "    </tr>\n",
              "    <tr>\n",
              "      <th>7</th>\n",
              "      <td>7</td>\n",
              "      <td>0.052632</td>\n",
              "    </tr>\n",
              "    <tr>\n",
              "      <th>5</th>\n",
              "      <td>8</td>\n",
              "      <td>0.105263</td>\n",
              "    </tr>\n",
              "    <tr>\n",
              "      <th>2</th>\n",
              "      <td>9</td>\n",
              "      <td>0.105263</td>\n",
              "    </tr>\n",
              "    <tr>\n",
              "      <th>4</th>\n",
              "      <td>10</td>\n",
              "      <td>0.105263</td>\n",
              "    </tr>\n",
              "    <tr>\n",
              "      <th>3</th>\n",
              "      <td>12</td>\n",
              "      <td>0.105263</td>\n",
              "    </tr>\n",
              "  </tbody>\n",
              "</table>\n",
              "</div>"
            ],
            "text/plain": [
              "   value  freq_month\n",
              "1      1    0.157895\n",
              "0      2    0.210526\n",
              "9      3    0.052632\n",
              "6      4    0.052632\n",
              "8      5    0.052632\n",
              "7      7    0.052632\n",
              "5      8    0.105263\n",
              "2      9    0.105263\n",
              "4     10    0.105263\n",
              "3     12    0.105263"
            ]
          },
          "metadata": {},
          "execution_count": 16
        }
      ]
    },
    {
      "cell_type": "code",
      "metadata": {
        "id": "QfMuT_tyPqPG",
        "colab": {
          "base_uri": "https://localhost:8080/",
          "height": 295
        },
        "outputId": "ea9008a4-2e52-46cd-a347-7fe7d4df8754"
      },
      "source": [
        "plt.xlabel('Значения')\n",
        "plt.ylabel('Относительные частоты')\n",
        "plt.title('Полигон распределения относительных частот месяца рождения')\n",
        "plt.plot(freq_month['value'], freq_month.freq_month, '-.*');"
      ],
      "execution_count": 17,
      "outputs": [
        {
          "output_type": "display_data",
          "data": {
            "image/png": "[encoded data removed]",
            "text/plain": [
              "<Figure size 432x288 with 1 Axes>"
            ]
          },
          "metadata": {
            "needs_background": "light"
          }
        }
      ]
    },
    {
      "cell_type": "code",
      "metadata": {
        "id": "W57DRCcaQFLJ"
      },
      "source": [
        "def distrib(column):\n",
        "  return np.array(np.cumsum(column))"
      ],
      "execution_count": 18,
      "outputs": []
    },
    {
      "cell_type": "code",
      "metadata": {
        "id": "M6GgZ3lJUjyx"
      },
      "source": [
        "freq_number = distrib(freq_number['Относительная частота'])\n",
        "freq_month = distrib(freq_month.freq_month)"
      ],
      "execution_count": 20,
      "outputs": []
    },
    {
      "cell_type": "code",
      "metadata": {
        "id": "Mwy0I01EUmjk",
        "colab": {
          "base_uri": "https://localhost:8080/",
          "height": 295
        },
        "outputId": "2389645b-f7c6-4f76-9419-85e55456e6db"
      },
      "source": [
        "plt.xlabel('Значение случайной величины')\n",
        "plt.ylabel('F(x)')\n",
        "plt.title('Функция распределения случайной величины - случайное число')\n",
        "plt.plot(freq_number, 'o');"
      ],
      "execution_count": 21,
      "outputs": [
        {
          "output_type": "display_data",
          "data": {
            "image/png": "[encoded data removed]",
            "text/plain": [
              "<Figure size 432x288 with 1 Axes>"
            ]
          },
          "metadata": {
            "needs_background": "light"
          }
        }
      ]
    },
    {
      "cell_type": "code",
      "metadata": {
        "id": "HuI0n4BcaA75",
        "colab": {
          "base_uri": "https://localhost:8080/",
          "height": 295
        },
        "outputId": "5b6b8e2e-7abf-4155-e2a5-fda7466b0e10"
      },
      "source": [
        "plt.xlabel('Значение случайной величины')\n",
        "plt.ylabel('F(x)')\n",
        "plt.title('Функция распределения случайной величины - месяц рождения')\n",
        "plt.plot(freq_month, 'o');"
      ],
      "execution_count": 22,
      "outputs": [
        {
          "output_type": "display_data",
          "data": {
            "image/png": "[encoded data removed]",
            "text/plain": [
              "<Figure size 432x288 with 1 Axes>"
            ]
          },
          "metadata": {
            "needs_background": "light"
          }
        }
      ]
    },
    {
      "cell_type": "code",
      "metadata": {
        "id": "RJYV76pnUobm"
      },
      "source": [
        "stats = pd.DataFrame({'Среднее' : [np.mean(data.random_number), np.mean(data.month_of_birth)],\n",
        "                      'Дисперсия' : [np.var(data.random_number), np.var(data.month_of_birth)],\n",
        "                     'Ст.отклонение' : [np.std(data.random_number), np.std(data.month_of_birth)],\n",
        "                      'Относ. вариация' : [np.std(data.random_number) / np.mean(data.random_number) * 100, np.std(data.month_of_birth) / np.mean(data.month_of_birth) * 100]}, index=['Сл.число', 'Месяц рождения'])"
      ],
      "execution_count": 23,
      "outputs": []
    },
    {
      "cell_type": "code",
      "metadata": {
        "id": "fvZvQQOFWeu8",
        "colab": {
          "base_uri": "https://localhost:8080/",
          "height": 110
        },
        "outputId": "b86b1840-23be-4aff-e41f-254f700c78b4"
      },
      "source": [
        "stats.head()"
      ],
      "execution_count": 24,
      "outputs": [
        {
          "output_type": "execute_result",
          "data": {
            "text/html": [
              "<div>\n",
              "<style scoped>\n",
              "    .dataframe tbody tr th:only-of-type {\n",
              "        vertical-align: middle;\n",
              "    }\n",
              "\n",
              "    .dataframe tbody tr th {\n",
              "        vertical-align: top;\n",
              "    }\n",
              "\n",
              "    .dataframe thead th {\n",
              "        text-align: right;\n",
              "    }\n",
              "</style>\n",
              "<table border=\"1\" class=\"dataframe\">\n",
              "  <thead>\n",
              "    <tr style=\"text-align: right;\">\n",
              "      <th></th>\n",
              "      <th>Среднее</th>\n",
              "      <th>Дисперсия</th>\n",
              "      <th>Ст.отклонение</th>\n",
              "      <th>Относ. вариация</th>\n",
              "    </tr>\n",
              "  </thead>\n",
              "  <tbody>\n",
              "    <tr>\n",
              "      <th>Сл.число</th>\n",
              "      <td>4.526316</td>\n",
              "      <td>2.880886</td>\n",
              "      <td>1.697317</td>\n",
              "      <td>37.498873</td>\n",
              "    </tr>\n",
              "    <tr>\n",
              "      <th>Месяц рождения</th>\n",
              "      <td>5.684211</td>\n",
              "      <td>14.847645</td>\n",
              "      <td>3.853264</td>\n",
              "      <td>67.788908</td>\n",
              "    </tr>\n",
              "  </tbody>\n",
              "</table>\n",
              "</div>"
            ],
            "text/plain": [
              "                 Среднее  Дисперсия  Ст.отклонение  Относ. вариация\n",
              "Сл.число        4.526316   2.880886       1.697317        37.498873\n",
              "Месяц рождения  5.684211  14.847645       3.853264        67.788908"
            ]
          },
          "metadata": {},
          "execution_count": 24
        }
      ]
    }
  ]
}