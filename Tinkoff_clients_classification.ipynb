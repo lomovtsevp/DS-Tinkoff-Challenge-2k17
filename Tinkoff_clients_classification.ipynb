{
  "nbformat": 4,
  "nbformat_minor": 0,
  "metadata": {
    "colab": {
      "name": "Tinkoff_clients_classification.ipynb",
      "provenance": [],
      "collapsed_sections": [],
      "authorship_tag": "ABX9TyMrzxf+zRr9YEOb7mzn7kC7",
      "include_colab_link": true
    },
    "kernelspec": {
      "name": "python3",
      "display_name": "Python 3"
    },
    "language_info": {
      "name": "python"
    }
  },
  "cells": [
    {
      "cell_type": "markdown",
      "metadata": {
        "id": "view-in-github",
        "colab_type": "text"
      },
      "source": [
        "<a href=\"https://colab.research.google.com/github/lompas10/DS-Tinkoff-Challenge-2k17/blob/main/Tinkoff_clients_classification.ipynb\" target=\"_parent\"><img src=\"https://colab.research.google.com/assets/colab-badge.svg\" alt=\"Open In Colab\"/></a>"
      ]
    },
    {
      "cell_type": "markdown",
      "metadata": {
        "id": "gN4H-ohP5SBq"
      },
      "source": [
        "<img src='https://zoogen.org/images/rus/images/logo/tinkoff.jpg' width=1050 height = 500 >\n",
        "\n",
        "\n",
        "---\n",
        "\n",
        "\n",
        "<p align=\"center\">\n",
        "<font size=11>\n",
        "<font face='Cooper black' color='Pink'>Pet-project. Prediction of the client's choice of Tinkoff bank for obtaining a loan</p>\n",
        "\n",
        "\n",
        "---\n",
        "\n",
        "\n",
        "\n",
        "\n",
        "\n",
        "<font color='yellow' size = 6>Target: To classify clients according to the choice of Tinkoff Bank clients for obtaining a loan.\n",
        "\n",
        "\n",
        "\n",
        "\n",
        "\n",
        "---\n",
        "<font size=6 color = 'violet' face='Cooper black'> Author: Pavel Lomovtsev, Junior Data Scientist, *@lompas10*\n",
        "---\n",
        "\n",
        "\n"
      ]
    },
    {
      "cell_type": "markdown",
      "metadata": {
        "id": "1ehEfbmEBrgX"
      },
      "source": [
        "\n",
        "\n",
        "---\n",
        "\n"
      ]
    },
    {
      "cell_type": "code",
      "metadata": {
        "id": "JpgtHqlyGAv_"
      },
      "source": [
        "import pandas as pd\n",
        "import numpy as np\n",
        "\n",
        "import seaborn as sns\n",
        "import matplotlib.pyplot as plt\n",
        "%matplotlib inline\n",
        "\n",
        "from sklearn.model_selection import train_test_split\n",
        "from sklearn.preprocessing import StandardScaler, LabelEncoder\n",
        "from sklearn.model_selection import GridSearchCV\n",
        "from sklearn.linear_model import LogisticRegression, SGDClassifier\n",
        "from sklearn.tree import DecisionTreeClassifier\n",
        "from sklearn.ensemble import RandomForestClassifier, BaggingClassifier\n",
        "from sklearn.neighbors import KNeighborsClassifier\n",
        "from sklearn.neural_network import MLPClassifier\n",
        "from sklearn.decomposition import PCA \n",
        "from sklearn.feature_selection import VarianceThreshold\n",
        "from sklearn.metrics import classification_report, roc_auc_score, roc_curve, plot_roc_curve, accuracy_score, recall_score, f1_score, precision_score, plot_precision_recall_curve\n",
        "\n",
        "#!pip install catboost\n",
        "from catboost import CatBoostClassifier\n",
        "\n",
        "import tensorflow as tf\n",
        "\n",
        "import xgboost\n",
        "\n",
        "from scipy.stats import pearsonr\n",
        "\n",
        "import warnings\n",
        "warnings.filterwarnings('ignore')"
      ],
      "execution_count": null,
      "outputs": []
    },
    {
      "cell_type": "code",
      "metadata": {
        "id": "iy0vqMddGDRe"
      },
      "source": [
        "train = pd.read_csv('credit_train.csv', sep='\\t', encoding='windows-1251', decimal=',')\n",
        "test = pd.read_csv('credit_test.csv', sep='\\t', encoding='windows-1251', decimal=',')"
      ],
      "execution_count": null,
      "outputs": []
    },
    {
      "cell_type": "code",
      "metadata": {
        "colab": {
          "base_uri": "https://localhost:8080/",
          "height": 282
        },
        "id": "_rbVIig_xqFP",
        "outputId": "73c8e05c-12a2-43bd-dd25-52a41322b53b"
      },
      "source": [
        "train.head()"
      ],
      "execution_count": null,
      "outputs": [
        {
          "output_type": "execute_result",
          "data": {
            "text/html": [
              "<div>\n",
              "<style scoped>\n",
              "    .dataframe tbody tr th:only-of-type {\n",
              "        vertical-align: middle;\n",
              "    }\n",
              "\n",
              "    .dataframe tbody tr th {\n",
              "        vertical-align: top;\n",
              "    }\n",
              "\n",
              "    .dataframe thead th {\n",
              "        text-align: right;\n",
              "    }\n",
              "</style>\n",
              "<table border=\"1\" class=\"dataframe\">\n",
              "  <thead>\n",
              "    <tr style=\"text-align: right;\">\n",
              "      <th></th>\n",
              "      <th>client_id</th>\n",
              "      <th>gender</th>\n",
              "      <th>age</th>\n",
              "      <th>marital_status</th>\n",
              "      <th>job_position</th>\n",
              "      <th>credit_sum</th>\n",
              "      <th>credit_month</th>\n",
              "      <th>tariff_id</th>\n",
              "      <th>score_shk</th>\n",
              "      <th>education</th>\n",
              "      <th>living_region</th>\n",
              "      <th>monthly_income</th>\n",
              "      <th>credit_count</th>\n",
              "      <th>overdue_credit_count</th>\n",
              "      <th>living_region_code</th>\n",
              "      <th>open_account_flg</th>\n",
              "    </tr>\n",
              "  </thead>\n",
              "  <tbody>\n",
              "    <tr>\n",
              "      <th>0</th>\n",
              "      <td>1</td>\n",
              "      <td>M</td>\n",
              "      <td>48</td>\n",
              "      <td>MAR</td>\n",
              "      <td>UMN</td>\n",
              "      <td>59998.00</td>\n",
              "      <td>10</td>\n",
              "      <td>1.6</td>\n",
              "      <td>0.770249</td>\n",
              "      <td>GRD</td>\n",
              "      <td>КРАСНОДАРСКИЙ КРАЙ</td>\n",
              "      <td>30000</td>\n",
              "      <td>1</td>\n",
              "      <td>1</td>\n",
              "      <td>23</td>\n",
              "      <td>0</td>\n",
              "    </tr>\n",
              "    <tr>\n",
              "      <th>1</th>\n",
              "      <td>2</td>\n",
              "      <td>F</td>\n",
              "      <td>28</td>\n",
              "      <td>MAR</td>\n",
              "      <td>UMN</td>\n",
              "      <td>10889.00</td>\n",
              "      <td>6</td>\n",
              "      <td>1.1</td>\n",
              "      <td>0.248514</td>\n",
              "      <td>GRD</td>\n",
              "      <td>МОСКВА</td>\n",
              "      <td>43000</td>\n",
              "      <td>2</td>\n",
              "      <td>0</td>\n",
              "      <td>77</td>\n",
              "      <td>0</td>\n",
              "    </tr>\n",
              "    <tr>\n",
              "      <th>2</th>\n",
              "      <td>3</td>\n",
              "      <td>M</td>\n",
              "      <td>32</td>\n",
              "      <td>MAR</td>\n",
              "      <td>SPC</td>\n",
              "      <td>10728.00</td>\n",
              "      <td>12</td>\n",
              "      <td>1.1</td>\n",
              "      <td>0.459589</td>\n",
              "      <td>SCH</td>\n",
              "      <td>ОБЛ САРАТОВСКАЯ</td>\n",
              "      <td>23000</td>\n",
              "      <td>5</td>\n",
              "      <td>0</td>\n",
              "      <td>64</td>\n",
              "      <td>0</td>\n",
              "    </tr>\n",
              "    <tr>\n",
              "      <th>3</th>\n",
              "      <td>4</td>\n",
              "      <td>F</td>\n",
              "      <td>27</td>\n",
              "      <td>DIV</td>\n",
              "      <td>SPC</td>\n",
              "      <td>12009.09</td>\n",
              "      <td>12</td>\n",
              "      <td>1.1</td>\n",
              "      <td>0.362536</td>\n",
              "      <td>GRD</td>\n",
              "      <td>ОБЛ ВОЛГОГРАДСКАЯ</td>\n",
              "      <td>17000</td>\n",
              "      <td>2</td>\n",
              "      <td>0</td>\n",
              "      <td>34</td>\n",
              "      <td>0</td>\n",
              "    </tr>\n",
              "    <tr>\n",
              "      <th>4</th>\n",
              "      <td>5</td>\n",
              "      <td>M</td>\n",
              "      <td>45</td>\n",
              "      <td>MAR</td>\n",
              "      <td>SPC</td>\n",
              "      <td>16908.89</td>\n",
              "      <td>10</td>\n",
              "      <td>1.1</td>\n",
              "      <td>0.421385</td>\n",
              "      <td>SCH</td>\n",
              "      <td>ЧЕЛЯБИНСКАЯ ОБЛАСТЬ</td>\n",
              "      <td>25000</td>\n",
              "      <td>1</td>\n",
              "      <td>0</td>\n",
              "      <td>74</td>\n",
              "      <td>0</td>\n",
              "    </tr>\n",
              "  </tbody>\n",
              "</table>\n",
              "</div>"
            ],
            "text/plain": [
              "   client_id gender  ...  living_region_code open_account_flg\n",
              "0          1      M  ...                  23                0\n",
              "1          2      F  ...                  77                0\n",
              "2          3      M  ...                  64                0\n",
              "3          4      F  ...                  34                0\n",
              "4          5      M  ...                  74                0\n",
              "\n",
              "[5 rows x 16 columns]"
            ]
          },
          "metadata": {},
          "execution_count": 60
        }
      ]
    },
    {
      "cell_type": "code",
      "metadata": {
        "colab": {
          "base_uri": "https://localhost:8080/"
        },
        "id": "jZqHAp2PKpoD",
        "outputId": "4c3a6ec9-aade-45a1-bda3-98653fa4e19b"
      },
      "source": [
        "train.dtypes"
      ],
      "execution_count": null,
      "outputs": [
        {
          "output_type": "execute_result",
          "data": {
            "text/plain": [
              "client_id                 int64\n",
              "gender                   object\n",
              "age                       int64\n",
              "marital_status           object\n",
              "job_position             object\n",
              "credit_sum              float64\n",
              "credit_month              int64\n",
              "tariff_id                object\n",
              "score_shk               float64\n",
              "education                object\n",
              "living_region            object\n",
              "monthly_income            int64\n",
              "credit_count             object\n",
              "overdue_credit_count     object\n",
              "living_region_code        int64\n",
              "open_account_flg          int64\n",
              "dtype: object"
            ]
          },
          "metadata": {},
          "execution_count": 61
        }
      ]
    },
    {
      "cell_type": "code",
      "metadata": {
        "id": "VxTBMrtYHepK"
      },
      "source": [
        "train = train.drop(['living_region', 'client_id'], axis=1)"
      ],
      "execution_count": null,
      "outputs": []
    },
    {
      "cell_type": "code",
      "metadata": {
        "colab": {
          "base_uri": "https://localhost:8080/"
        },
        "id": "Lb9IkvCrzbdg",
        "outputId": "338e39d6-2c30-4317-e9bd-7a6aea9599c1"
      },
      "source": [
        "def unique_object_values(data):\n",
        "  for column in data.select_dtypes(include=['object']).columns:\n",
        "    print(column, data[column].unique(), end='\\n\\n')\n",
        "\n",
        "unique_object_values(train)"
      ],
      "execution_count": null,
      "outputs": [
        {
          "output_type": "stream",
          "name": "stdout",
          "text": [
            "gender ['M' 'F']\n",
            "\n",
            "marital_status ['MAR' 'DIV' 'UNM' 'WID' 'CIV']\n",
            "\n",
            "job_position ['UMN' 'SPC' 'INP' 'DIR' 'ATP' 'PNA' 'BIS' 'WOI' 'NOR' 'WRK' 'WRP' 'PNV'\n",
            " 'BIU' 'PNI' 'HSK' 'PNS' 'INV' 'ONB']\n",
            "\n",
            "tariff_id ['1.6' '1.1' '1.5' '1' '1.32' '1.4' '1.7' '1.3' '1.16' '1.9' '1.22' '1.23'\n",
            " '1.43' '1.44' '1.19' '1.2' '1.21' '1.24' '1.91' '1.41' '1.17' '1.94'\n",
            " '1.25' '1.48' '1.52' '1.18' '1.26' '1.27' '1.28' '1.96' '1.56' '1.29']\n",
            "\n",
            "education ['GRD' 'SCH' 'UGR' 'PGR' 'ACD']\n",
            "\n",
            "credit_count ['1' '2' '5' '0' '3' '7' '4' '6' '?' '8' '10' '9' '12' '11' '14' '15' '13'\n",
            " '16' '19' '17' '18' '21']\n",
            "\n",
            "overdue_credit_count ['1' '0' '?' '2' '3']\n",
            "\n"
          ]
        }
      ]
    },
    {
      "cell_type": "code",
      "metadata": {
        "id": "ElolVtgELaUc"
      },
      "source": [
        "train = train.drop(train[train.credit_count == '?'].index)\n",
        "train = train.drop(train[train.overdue_credit_count == '?'].index)"
      ],
      "execution_count": null,
      "outputs": []
    },
    {
      "cell_type": "code",
      "metadata": {
        "colab": {
          "base_uri": "https://localhost:8080/"
        },
        "id": "vibEsmIyM96F",
        "outputId": "e2b050ec-9afc-4230-f464-4339fb7ca31e"
      },
      "source": [
        "unique_object_values(train)"
      ],
      "execution_count": null,
      "outputs": [
        {
          "output_type": "stream",
          "name": "stdout",
          "text": [
            "gender ['M' 'F']\n",
            "\n",
            "marital_status ['MAR' 'DIV' 'UNM' 'WID' 'CIV']\n",
            "\n",
            "job_position ['UMN' 'SPC' 'INP' 'DIR' 'ATP' 'PNA' 'BIS' 'WOI' 'NOR' 'WRK' 'WRP' 'PNV'\n",
            " 'BIU' 'PNI' 'HSK' 'PNS' 'INV']\n",
            "\n",
            "tariff_id ['1.6' '1.1' '1.5' '1' '1.32' '1.4' '1.7' '1.3' '1.16' '1.9' '1.23' '1.43'\n",
            " '1.44' '1.19' '1.2' '1.21' '1.22' '1.24' '1.91' '1.41' '1.17' '1.94'\n",
            " '1.25' '1.48' '1.52' '1.18' '1.26' '1.27' '1.28' '1.96' '1.56' '1.29']\n",
            "\n",
            "education ['GRD' 'SCH' 'UGR' 'PGR' 'ACD']\n",
            "\n",
            "credit_count ['1' '2' '5' '0' '3' '7' '4' '6' '8' '10' '9' '12' '11' '14' '15' '13'\n",
            " '16' '19' '17' '18' '21']\n",
            "\n",
            "overdue_credit_count ['1' '0' '2' '3']\n",
            "\n"
          ]
        }
      ]
    },
    {
      "cell_type": "code",
      "metadata": {
        "colab": {
          "base_uri": "https://localhost:8080/"
        },
        "id": "ahBKLi9XvUTP",
        "outputId": "a61e10c9-bb14-4fb1-aec1-0719666b47e9"
      },
      "source": [
        "X, y = train.drop('open_account_flg', axis=1), train['open_account_flg']\n",
        "\n",
        "X_train, X_valid, y_train, y_valid = train_test_split(X, y, test_size=0.3, stratify=y)\n",
        "\n",
        "y_train.value_counts()"
      ],
      "execution_count": null,
      "outputs": [
        {
          "output_type": "execute_result",
          "data": {
            "text/plain": [
              "0    94436\n",
              "1    18625\n",
              "Name: open_account_flg, dtype: int64"
            ]
          },
          "metadata": {},
          "execution_count": 66
        }
      ]
    },
    {
      "cell_type": "code",
      "metadata": {
        "colab": {
          "base_uri": "https://localhost:8080/",
          "height": 195
        },
        "id": "8rRu7GZtP7Ax",
        "outputId": "88962695-8d23-4e37-c257-f547a4e3ec7f"
      },
      "source": [
        "X_train.head()"
      ],
      "execution_count": null,
      "outputs": [
        {
          "output_type": "execute_result",
          "data": {
            "text/html": [
              "<div>\n",
              "<style scoped>\n",
              "    .dataframe tbody tr th:only-of-type {\n",
              "        vertical-align: middle;\n",
              "    }\n",
              "\n",
              "    .dataframe tbody tr th {\n",
              "        vertical-align: top;\n",
              "    }\n",
              "\n",
              "    .dataframe thead th {\n",
              "        text-align: right;\n",
              "    }\n",
              "</style>\n",
              "<table border=\"1\" class=\"dataframe\">\n",
              "  <thead>\n",
              "    <tr style=\"text-align: right;\">\n",
              "      <th></th>\n",
              "      <th>gender</th>\n",
              "      <th>age</th>\n",
              "      <th>marital_status</th>\n",
              "      <th>job_position</th>\n",
              "      <th>credit_sum</th>\n",
              "      <th>credit_month</th>\n",
              "      <th>tariff_id</th>\n",
              "      <th>score_shk</th>\n",
              "      <th>education</th>\n",
              "      <th>monthly_income</th>\n",
              "      <th>credit_count</th>\n",
              "      <th>overdue_credit_count</th>\n",
              "      <th>living_region_code</th>\n",
              "    </tr>\n",
              "  </thead>\n",
              "  <tbody>\n",
              "    <tr>\n",
              "      <th>124437</th>\n",
              "      <td>M</td>\n",
              "      <td>26</td>\n",
              "      <td>MAR</td>\n",
              "      <td>SPC</td>\n",
              "      <td>9891.00</td>\n",
              "      <td>6</td>\n",
              "      <td>1.9</td>\n",
              "      <td>0.322769</td>\n",
              "      <td>GRD</td>\n",
              "      <td>40000</td>\n",
              "      <td>3</td>\n",
              "      <td>0</td>\n",
              "      <td>23</td>\n",
              "    </tr>\n",
              "    <tr>\n",
              "      <th>29962</th>\n",
              "      <td>F</td>\n",
              "      <td>27</td>\n",
              "      <td>UNM</td>\n",
              "      <td>SPC</td>\n",
              "      <td>21266.00</td>\n",
              "      <td>12</td>\n",
              "      <td>1.5</td>\n",
              "      <td>0.627714</td>\n",
              "      <td>GRD</td>\n",
              "      <td>20000</td>\n",
              "      <td>1</td>\n",
              "      <td>0</td>\n",
              "      <td>33</td>\n",
              "    </tr>\n",
              "    <tr>\n",
              "      <th>148098</th>\n",
              "      <td>F</td>\n",
              "      <td>25</td>\n",
              "      <td>UNM</td>\n",
              "      <td>UMN</td>\n",
              "      <td>18131.82</td>\n",
              "      <td>12</td>\n",
              "      <td>1.1</td>\n",
              "      <td>0.489713</td>\n",
              "      <td>GRD</td>\n",
              "      <td>25000</td>\n",
              "      <td>0</td>\n",
              "      <td>0</td>\n",
              "      <td>74</td>\n",
              "    </tr>\n",
              "    <tr>\n",
              "      <th>109063</th>\n",
              "      <td>M</td>\n",
              "      <td>28</td>\n",
              "      <td>UNM</td>\n",
              "      <td>SPC</td>\n",
              "      <td>11137.00</td>\n",
              "      <td>12</td>\n",
              "      <td>1.4</td>\n",
              "      <td>0.396144</td>\n",
              "      <td>UGR</td>\n",
              "      <td>30000</td>\n",
              "      <td>1</td>\n",
              "      <td>0</td>\n",
              "      <td>63</td>\n",
              "    </tr>\n",
              "    <tr>\n",
              "      <th>76854</th>\n",
              "      <td>M</td>\n",
              "      <td>48</td>\n",
              "      <td>MAR</td>\n",
              "      <td>SPC</td>\n",
              "      <td>10477.00</td>\n",
              "      <td>10</td>\n",
              "      <td>1.3</td>\n",
              "      <td>0.471923</td>\n",
              "      <td>SCH</td>\n",
              "      <td>65000</td>\n",
              "      <td>2</td>\n",
              "      <td>0</td>\n",
              "      <td>11</td>\n",
              "    </tr>\n",
              "  </tbody>\n",
              "</table>\n",
              "</div>"
            ],
            "text/plain": [
              "       gender  age  ... overdue_credit_count living_region_code\n",
              "124437      M   26  ...                    0                 23\n",
              "29962       F   27  ...                    0                 33\n",
              "148098      F   25  ...                    0                 74\n",
              "109063      M   28  ...                    0                 63\n",
              "76854       M   48  ...                    0                 11\n",
              "\n",
              "[5 rows x 13 columns]"
            ]
          },
          "metadata": {},
          "execution_count": 67
        }
      ]
    },
    {
      "cell_type": "code",
      "metadata": {
        "colab": {
          "base_uri": "https://localhost:8080/",
          "height": 280
        },
        "id": "XDGT02hLYzRr",
        "outputId": "6098cfef-7bcf-490a-e038-e6e5fbae20f2"
      },
      "source": [
        "sns.countplot(X_train['credit_month']);"
      ],
      "execution_count": null,
      "outputs": [
        {
          "output_type": "display_data",
          "data": {
            "image/png": "[encoded data removed]",
            "text/plain": [
              "<Figure size 432x288 with 1 Axes>"
            ]
          },
          "metadata": {
            "needs_background": "light"
          }
        }
      ]
    },
    {
      "cell_type": "code",
      "metadata": {
        "colab": {
          "base_uri": "https://localhost:8080/"
        },
        "id": "WKAU8VlIY5Yh",
        "outputId": "d7612818-5c2b-4d12-f76b-9c84fb01f4c6"
      },
      "source": [
        "X_train.credit_month.value_counts().head()"
      ],
      "execution_count": null,
      "outputs": [
        {
          "output_type": "execute_result",
          "data": {
            "text/plain": [
              "10    63738\n",
              "12    29757\n",
              "6      6865\n",
              "24     3952\n",
              "18     1926\n",
              "Name: credit_month, dtype: int64"
            ]
          },
          "metadata": {},
          "execution_count": 69
        }
      ]
    },
    {
      "cell_type": "code",
      "metadata": {
        "colab": {
          "base_uri": "https://localhost:8080/"
        },
        "id": "3C_ZPTxxZwF-",
        "outputId": "514c69e5-3a29-4018-b9b4-c0a8de7b91f3"
      },
      "source": [
        "X_train.isna().sum(), X_valid.isna().sum()"
      ],
      "execution_count": null,
      "outputs": [
        {
          "output_type": "execute_result",
          "data": {
            "text/plain": [
              "(gender                  0\n",
              " age                     0\n",
              " marital_status          0\n",
              " job_position            0\n",
              " credit_sum              0\n",
              " credit_month            0\n",
              " tariff_id               0\n",
              " score_shk               0\n",
              " education               0\n",
              " monthly_income          0\n",
              " credit_count            0\n",
              " overdue_credit_count    0\n",
              " living_region_code      0\n",
              " dtype: int64, gender                  0\n",
              " age                     0\n",
              " marital_status          0\n",
              " job_position            0\n",
              " credit_sum              0\n",
              " credit_month            0\n",
              " tariff_id               0\n",
              " score_shk               0\n",
              " education               0\n",
              " monthly_income          0\n",
              " credit_count            0\n",
              " overdue_credit_count    0\n",
              " living_region_code      0\n",
              " dtype: int64)"
            ]
          },
          "metadata": {},
          "execution_count": 70
        }
      ]
    },
    {
      "cell_type": "code",
      "metadata": {
        "id": "A5k9mLfsaTfU"
      },
      "source": [
        "def month_sum(sum, month):\n",
        "  return sum / month"
      ],
      "execution_count": null,
      "outputs": []
    },
    {
      "cell_type": "code",
      "metadata": {
        "id": "Bvygc38Lam31"
      },
      "source": [
        "X_train['month_sum'], X_valid['month_sum'] = month_sum(X_train['credit_sum'], X_train.credit_month), month_sum(X_valid['credit_sum'], X_valid.credit_month)"
      ],
      "execution_count": null,
      "outputs": []
    },
    {
      "cell_type": "code",
      "metadata": {
        "colab": {
          "base_uri": "https://localhost:8080/",
          "height": 215
        },
        "id": "BcwkvGKeax8C",
        "outputId": "ef741347-0a45-427f-8fce-2581522955a5"
      },
      "source": [
        "X_train.head()"
      ],
      "execution_count": null,
      "outputs": [
        {
          "output_type": "execute_result",
          "data": {
            "text/html": [
              "<div>\n",
              "<style scoped>\n",
              "    .dataframe tbody tr th:only-of-type {\n",
              "        vertical-align: middle;\n",
              "    }\n",
              "\n",
              "    .dataframe tbody tr th {\n",
              "        vertical-align: top;\n",
              "    }\n",
              "\n",
              "    .dataframe thead th {\n",
              "        text-align: right;\n",
              "    }\n",
              "</style>\n",
              "<table border=\"1\" class=\"dataframe\">\n",
              "  <thead>\n",
              "    <tr style=\"text-align: right;\">\n",
              "      <th></th>\n",
              "      <th>gender</th>\n",
              "      <th>age</th>\n",
              "      <th>marital_status</th>\n",
              "      <th>job_position</th>\n",
              "      <th>credit_sum</th>\n",
              "      <th>credit_month</th>\n",
              "      <th>tariff_id</th>\n",
              "      <th>score_shk</th>\n",
              "      <th>education</th>\n",
              "      <th>monthly_income</th>\n",
              "      <th>credit_count</th>\n",
              "      <th>overdue_credit_count</th>\n",
              "      <th>living_region_code</th>\n",
              "      <th>month_sum</th>\n",
              "    </tr>\n",
              "  </thead>\n",
              "  <tbody>\n",
              "    <tr>\n",
              "      <th>124437</th>\n",
              "      <td>M</td>\n",
              "      <td>26</td>\n",
              "      <td>MAR</td>\n",
              "      <td>SPC</td>\n",
              "      <td>9891.00</td>\n",
              "      <td>6</td>\n",
              "      <td>1.9</td>\n",
              "      <td>0.322769</td>\n",
              "      <td>GRD</td>\n",
              "      <td>40000</td>\n",
              "      <td>3</td>\n",
              "      <td>0</td>\n",
              "      <td>23</td>\n",
              "      <td>1648.500000</td>\n",
              "    </tr>\n",
              "    <tr>\n",
              "      <th>29962</th>\n",
              "      <td>F</td>\n",
              "      <td>27</td>\n",
              "      <td>UNM</td>\n",
              "      <td>SPC</td>\n",
              "      <td>21266.00</td>\n",
              "      <td>12</td>\n",
              "      <td>1.5</td>\n",
              "      <td>0.627714</td>\n",
              "      <td>GRD</td>\n",
              "      <td>20000</td>\n",
              "      <td>1</td>\n",
              "      <td>0</td>\n",
              "      <td>33</td>\n",
              "      <td>1772.166667</td>\n",
              "    </tr>\n",
              "    <tr>\n",
              "      <th>148098</th>\n",
              "      <td>F</td>\n",
              "      <td>25</td>\n",
              "      <td>UNM</td>\n",
              "      <td>UMN</td>\n",
              "      <td>18131.82</td>\n",
              "      <td>12</td>\n",
              "      <td>1.1</td>\n",
              "      <td>0.489713</td>\n",
              "      <td>GRD</td>\n",
              "      <td>25000</td>\n",
              "      <td>0</td>\n",
              "      <td>0</td>\n",
              "      <td>74</td>\n",
              "      <td>1510.985000</td>\n",
              "    </tr>\n",
              "    <tr>\n",
              "      <th>109063</th>\n",
              "      <td>M</td>\n",
              "      <td>28</td>\n",
              "      <td>UNM</td>\n",
              "      <td>SPC</td>\n",
              "      <td>11137.00</td>\n",
              "      <td>12</td>\n",
              "      <td>1.4</td>\n",
              "      <td>0.396144</td>\n",
              "      <td>UGR</td>\n",
              "      <td>30000</td>\n",
              "      <td>1</td>\n",
              "      <td>0</td>\n",
              "      <td>63</td>\n",
              "      <td>928.083333</td>\n",
              "    </tr>\n",
              "    <tr>\n",
              "      <th>76854</th>\n",
              "      <td>M</td>\n",
              "      <td>48</td>\n",
              "      <td>MAR</td>\n",
              "      <td>SPC</td>\n",
              "      <td>10477.00</td>\n",
              "      <td>10</td>\n",
              "      <td>1.3</td>\n",
              "      <td>0.471923</td>\n",
              "      <td>SCH</td>\n",
              "      <td>65000</td>\n",
              "      <td>2</td>\n",
              "      <td>0</td>\n",
              "      <td>11</td>\n",
              "      <td>1047.700000</td>\n",
              "    </tr>\n",
              "  </tbody>\n",
              "</table>\n",
              "</div>"
            ],
            "text/plain": [
              "       gender  age  ... living_region_code    month_sum\n",
              "124437      M   26  ...                 23  1648.500000\n",
              "29962       F   27  ...                 33  1772.166667\n",
              "148098      F   25  ...                 74  1510.985000\n",
              "109063      M   28  ...                 63   928.083333\n",
              "76854       M   48  ...                 11  1047.700000\n",
              "\n",
              "[5 rows x 14 columns]"
            ]
          },
          "metadata": {},
          "execution_count": 73
        }
      ]
    },
    {
      "cell_type": "code",
      "metadata": {
        "colab": {
          "base_uri": "https://localhost:8080/",
          "height": 215
        },
        "id": "6krVc899NZgr",
        "outputId": "321ad8a6-d62d-422d-f055-2fcd4135599b"
      },
      "source": [
        "X_valid.head()"
      ],
      "execution_count": null,
      "outputs": [
        {
          "output_type": "execute_result",
          "data": {
            "text/html": [
              "<div>\n",
              "<style scoped>\n",
              "    .dataframe tbody tr th:only-of-type {\n",
              "        vertical-align: middle;\n",
              "    }\n",
              "\n",
              "    .dataframe tbody tr th {\n",
              "        vertical-align: top;\n",
              "    }\n",
              "\n",
              "    .dataframe thead th {\n",
              "        text-align: right;\n",
              "    }\n",
              "</style>\n",
              "<table border=\"1\" class=\"dataframe\">\n",
              "  <thead>\n",
              "    <tr style=\"text-align: right;\">\n",
              "      <th></th>\n",
              "      <th>gender</th>\n",
              "      <th>age</th>\n",
              "      <th>marital_status</th>\n",
              "      <th>job_position</th>\n",
              "      <th>credit_sum</th>\n",
              "      <th>credit_month</th>\n",
              "      <th>tariff_id</th>\n",
              "      <th>score_shk</th>\n",
              "      <th>education</th>\n",
              "      <th>monthly_income</th>\n",
              "      <th>credit_count</th>\n",
              "      <th>overdue_credit_count</th>\n",
              "      <th>living_region_code</th>\n",
              "      <th>month_sum</th>\n",
              "    </tr>\n",
              "  </thead>\n",
              "  <tbody>\n",
              "    <tr>\n",
              "      <th>133546</th>\n",
              "      <td>F</td>\n",
              "      <td>42</td>\n",
              "      <td>DIV</td>\n",
              "      <td>SPC</td>\n",
              "      <td>29298.00</td>\n",
              "      <td>10</td>\n",
              "      <td>1.5</td>\n",
              "      <td>0.560988</td>\n",
              "      <td>SCH</td>\n",
              "      <td>30000</td>\n",
              "      <td>0</td>\n",
              "      <td>0</td>\n",
              "      <td>14</td>\n",
              "      <td>2929.800000</td>\n",
              "    </tr>\n",
              "    <tr>\n",
              "      <th>28469</th>\n",
              "      <td>F</td>\n",
              "      <td>48</td>\n",
              "      <td>UNM</td>\n",
              "      <td>SPC</td>\n",
              "      <td>13079.00</td>\n",
              "      <td>10</td>\n",
              "      <td>1.1</td>\n",
              "      <td>0.379387</td>\n",
              "      <td>SCH</td>\n",
              "      <td>35000</td>\n",
              "      <td>1</td>\n",
              "      <td>0</td>\n",
              "      <td>23</td>\n",
              "      <td>1307.900000</td>\n",
              "    </tr>\n",
              "    <tr>\n",
              "      <th>19951</th>\n",
              "      <td>F</td>\n",
              "      <td>23</td>\n",
              "      <td>UNM</td>\n",
              "      <td>SPC</td>\n",
              "      <td>12008.00</td>\n",
              "      <td>24</td>\n",
              "      <td>1.1</td>\n",
              "      <td>0.392285</td>\n",
              "      <td>SCH</td>\n",
              "      <td>20000</td>\n",
              "      <td>4</td>\n",
              "      <td>0</td>\n",
              "      <td>61</td>\n",
              "      <td>500.333333</td>\n",
              "    </tr>\n",
              "    <tr>\n",
              "      <th>127402</th>\n",
              "      <td>F</td>\n",
              "      <td>30</td>\n",
              "      <td>CIV</td>\n",
              "      <td>SPC</td>\n",
              "      <td>5544.44</td>\n",
              "      <td>10</td>\n",
              "      <td>1.5</td>\n",
              "      <td>0.457159</td>\n",
              "      <td>GRD</td>\n",
              "      <td>18000</td>\n",
              "      <td>6</td>\n",
              "      <td>0</td>\n",
              "      <td>64</td>\n",
              "      <td>554.444000</td>\n",
              "    </tr>\n",
              "    <tr>\n",
              "      <th>31303</th>\n",
              "      <td>F</td>\n",
              "      <td>27</td>\n",
              "      <td>MAR</td>\n",
              "      <td>SPC</td>\n",
              "      <td>26070.00</td>\n",
              "      <td>10</td>\n",
              "      <td>1.1</td>\n",
              "      <td>0.254198</td>\n",
              "      <td>GRD</td>\n",
              "      <td>25000</td>\n",
              "      <td>2</td>\n",
              "      <td>0</td>\n",
              "      <td>59</td>\n",
              "      <td>2607.000000</td>\n",
              "    </tr>\n",
              "  </tbody>\n",
              "</table>\n",
              "</div>"
            ],
            "text/plain": [
              "       gender  age  ... living_region_code    month_sum\n",
              "133546      F   42  ...                 14  2929.800000\n",
              "28469       F   48  ...                 23  1307.900000\n",
              "19951       F   23  ...                 61   500.333333\n",
              "127402      F   30  ...                 64   554.444000\n",
              "31303       F   27  ...                 59  2607.000000\n",
              "\n",
              "[5 rows x 14 columns]"
            ]
          },
          "metadata": {},
          "execution_count": 74
        }
      ]
    },
    {
      "cell_type": "code",
      "metadata": {
        "id": "WICBDLzPazoI"
      },
      "source": [
        "def encoding_categories(data):\n",
        "  encoder = LabelEncoder()\n",
        "  categories = data.select_dtypes('object')\n",
        "  for category in categories:\n",
        "    data[category] = encoder.fit_transform(data[category])\n",
        "  return data"
      ],
      "execution_count": null,
      "outputs": []
    },
    {
      "cell_type": "code",
      "metadata": {
        "colab": {
          "base_uri": "https://localhost:8080/",
          "height": 215
        },
        "id": "-y95baUGc4vs",
        "outputId": "e007e14e-3c48-4c87-ce5b-139592e632e4"
      },
      "source": [
        "encoding_categories(X_train).head()"
      ],
      "execution_count": null,
      "outputs": [
        {
          "output_type": "execute_result",
          "data": {
            "text/html": [
              "<div>\n",
              "<style scoped>\n",
              "    .dataframe tbody tr th:only-of-type {\n",
              "        vertical-align: middle;\n",
              "    }\n",
              "\n",
              "    .dataframe tbody tr th {\n",
              "        vertical-align: top;\n",
              "    }\n",
              "\n",
              "    .dataframe thead th {\n",
              "        text-align: right;\n",
              "    }\n",
              "</style>\n",
              "<table border=\"1\" class=\"dataframe\">\n",
              "  <thead>\n",
              "    <tr style=\"text-align: right;\">\n",
              "      <th></th>\n",
              "      <th>gender</th>\n",
              "      <th>age</th>\n",
              "      <th>marital_status</th>\n",
              "      <th>job_position</th>\n",
              "      <th>credit_sum</th>\n",
              "      <th>credit_month</th>\n",
              "      <th>tariff_id</th>\n",
              "      <th>score_shk</th>\n",
              "      <th>education</th>\n",
              "      <th>monthly_income</th>\n",
              "      <th>credit_count</th>\n",
              "      <th>overdue_credit_count</th>\n",
              "      <th>living_region_code</th>\n",
              "      <th>month_sum</th>\n",
              "    </tr>\n",
              "  </thead>\n",
              "  <tbody>\n",
              "    <tr>\n",
              "      <th>124437</th>\n",
              "      <td>1</td>\n",
              "      <td>26</td>\n",
              "      <td>2</td>\n",
              "      <td>12</td>\n",
              "      <td>9891.00</td>\n",
              "      <td>6</td>\n",
              "      <td>27</td>\n",
              "      <td>0.322769</td>\n",
              "      <td>1</td>\n",
              "      <td>40000</td>\n",
              "      <td>13</td>\n",
              "      <td>0</td>\n",
              "      <td>23</td>\n",
              "      <td>1648.500000</td>\n",
              "    </tr>\n",
              "    <tr>\n",
              "      <th>29962</th>\n",
              "      <td>0</td>\n",
              "      <td>27</td>\n",
              "      <td>3</td>\n",
              "      <td>12</td>\n",
              "      <td>21266.00</td>\n",
              "      <td>12</td>\n",
              "      <td>22</td>\n",
              "      <td>0.627714</td>\n",
              "      <td>1</td>\n",
              "      <td>20000</td>\n",
              "      <td>1</td>\n",
              "      <td>0</td>\n",
              "      <td>33</td>\n",
              "      <td>1772.166667</td>\n",
              "    </tr>\n",
              "    <tr>\n",
              "      <th>148098</th>\n",
              "      <td>0</td>\n",
              "      <td>25</td>\n",
              "      <td>3</td>\n",
              "      <td>13</td>\n",
              "      <td>18131.82</td>\n",
              "      <td>12</td>\n",
              "      <td>1</td>\n",
              "      <td>0.489713</td>\n",
              "      <td>1</td>\n",
              "      <td>25000</td>\n",
              "      <td>0</td>\n",
              "      <td>0</td>\n",
              "      <td>74</td>\n",
              "      <td>1510.985000</td>\n",
              "    </tr>\n",
              "    <tr>\n",
              "      <th>109063</th>\n",
              "      <td>1</td>\n",
              "      <td>28</td>\n",
              "      <td>3</td>\n",
              "      <td>12</td>\n",
              "      <td>11137.00</td>\n",
              "      <td>12</td>\n",
              "      <td>17</td>\n",
              "      <td>0.396144</td>\n",
              "      <td>4</td>\n",
              "      <td>30000</td>\n",
              "      <td>1</td>\n",
              "      <td>0</td>\n",
              "      <td>63</td>\n",
              "      <td>928.083333</td>\n",
              "    </tr>\n",
              "    <tr>\n",
              "      <th>76854</th>\n",
              "      <td>1</td>\n",
              "      <td>48</td>\n",
              "      <td>2</td>\n",
              "      <td>12</td>\n",
              "      <td>10477.00</td>\n",
              "      <td>10</td>\n",
              "      <td>15</td>\n",
              "      <td>0.471923</td>\n",
              "      <td>3</td>\n",
              "      <td>65000</td>\n",
              "      <td>11</td>\n",
              "      <td>0</td>\n",
              "      <td>11</td>\n",
              "      <td>1047.700000</td>\n",
              "    </tr>\n",
              "  </tbody>\n",
              "</table>\n",
              "</div>"
            ],
            "text/plain": [
              "        gender  age  ...  living_region_code    month_sum\n",
              "124437       1   26  ...                  23  1648.500000\n",
              "29962        0   27  ...                  33  1772.166667\n",
              "148098       0   25  ...                  74  1510.985000\n",
              "109063       1   28  ...                  63   928.083333\n",
              "76854        1   48  ...                  11  1047.700000\n",
              "\n",
              "[5 rows x 14 columns]"
            ]
          },
          "metadata": {},
          "execution_count": 76
        }
      ]
    },
    {
      "cell_type": "code",
      "metadata": {
        "colab": {
          "base_uri": "https://localhost:8080/",
          "height": 215
        },
        "id": "lZcyD513NdFi",
        "outputId": "e7bf6a67-30d8-4417-edb6-c2ac0b69ff43"
      },
      "source": [
        "encoding_categories(X_valid).head()"
      ],
      "execution_count": null,
      "outputs": [
        {
          "output_type": "execute_result",
          "data": {
            "text/html": [
              "<div>\n",
              "<style scoped>\n",
              "    .dataframe tbody tr th:only-of-type {\n",
              "        vertical-align: middle;\n",
              "    }\n",
              "\n",
              "    .dataframe tbody tr th {\n",
              "        vertical-align: top;\n",
              "    }\n",
              "\n",
              "    .dataframe thead th {\n",
              "        text-align: right;\n",
              "    }\n",
              "</style>\n",
              "<table border=\"1\" class=\"dataframe\">\n",
              "  <thead>\n",
              "    <tr style=\"text-align: right;\">\n",
              "      <th></th>\n",
              "      <th>gender</th>\n",
              "      <th>age</th>\n",
              "      <th>marital_status</th>\n",
              "      <th>job_position</th>\n",
              "      <th>credit_sum</th>\n",
              "      <th>credit_month</th>\n",
              "      <th>tariff_id</th>\n",
              "      <th>score_shk</th>\n",
              "      <th>education</th>\n",
              "      <th>monthly_income</th>\n",
              "      <th>credit_count</th>\n",
              "      <th>overdue_credit_count</th>\n",
              "      <th>living_region_code</th>\n",
              "      <th>month_sum</th>\n",
              "    </tr>\n",
              "  </thead>\n",
              "  <tbody>\n",
              "    <tr>\n",
              "      <th>133546</th>\n",
              "      <td>0</td>\n",
              "      <td>42</td>\n",
              "      <td>1</td>\n",
              "      <td>12</td>\n",
              "      <td>29298.00</td>\n",
              "      <td>10</td>\n",
              "      <td>23</td>\n",
              "      <td>0.560988</td>\n",
              "      <td>3</td>\n",
              "      <td>30000</td>\n",
              "      <td>0</td>\n",
              "      <td>0</td>\n",
              "      <td>14</td>\n",
              "      <td>2929.800000</td>\n",
              "    </tr>\n",
              "    <tr>\n",
              "      <th>28469</th>\n",
              "      <td>0</td>\n",
              "      <td>48</td>\n",
              "      <td>3</td>\n",
              "      <td>12</td>\n",
              "      <td>13079.00</td>\n",
              "      <td>10</td>\n",
              "      <td>1</td>\n",
              "      <td>0.379387</td>\n",
              "      <td>3</td>\n",
              "      <td>35000</td>\n",
              "      <td>1</td>\n",
              "      <td>0</td>\n",
              "      <td>23</td>\n",
              "      <td>1307.900000</td>\n",
              "    </tr>\n",
              "    <tr>\n",
              "      <th>19951</th>\n",
              "      <td>0</td>\n",
              "      <td>23</td>\n",
              "      <td>3</td>\n",
              "      <td>12</td>\n",
              "      <td>12008.00</td>\n",
              "      <td>24</td>\n",
              "      <td>1</td>\n",
              "      <td>0.392285</td>\n",
              "      <td>3</td>\n",
              "      <td>20000</td>\n",
              "      <td>14</td>\n",
              "      <td>0</td>\n",
              "      <td>61</td>\n",
              "      <td>500.333333</td>\n",
              "    </tr>\n",
              "    <tr>\n",
              "      <th>127402</th>\n",
              "      <td>0</td>\n",
              "      <td>30</td>\n",
              "      <td>0</td>\n",
              "      <td>12</td>\n",
              "      <td>5544.44</td>\n",
              "      <td>10</td>\n",
              "      <td>23</td>\n",
              "      <td>0.457159</td>\n",
              "      <td>1</td>\n",
              "      <td>18000</td>\n",
              "      <td>16</td>\n",
              "      <td>0</td>\n",
              "      <td>64</td>\n",
              "      <td>554.444000</td>\n",
              "    </tr>\n",
              "    <tr>\n",
              "      <th>31303</th>\n",
              "      <td>0</td>\n",
              "      <td>27</td>\n",
              "      <td>2</td>\n",
              "      <td>12</td>\n",
              "      <td>26070.00</td>\n",
              "      <td>10</td>\n",
              "      <td>1</td>\n",
              "      <td>0.254198</td>\n",
              "      <td>1</td>\n",
              "      <td>25000</td>\n",
              "      <td>12</td>\n",
              "      <td>0</td>\n",
              "      <td>59</td>\n",
              "      <td>2607.000000</td>\n",
              "    </tr>\n",
              "  </tbody>\n",
              "</table>\n",
              "</div>"
            ],
            "text/plain": [
              "        gender  age  ...  living_region_code    month_sum\n",
              "133546       0   42  ...                  14  2929.800000\n",
              "28469        0   48  ...                  23  1307.900000\n",
              "19951        0   23  ...                  61   500.333333\n",
              "127402       0   30  ...                  64   554.444000\n",
              "31303        0   27  ...                  59  2607.000000\n",
              "\n",
              "[5 rows x 14 columns]"
            ]
          },
          "metadata": {},
          "execution_count": 77
        }
      ]
    },
    {
      "cell_type": "code",
      "metadata": {
        "colab": {
          "base_uri": "https://localhost:8080/"
        },
        "id": "LIuAx2qWc62j",
        "outputId": "b35f9eb9-8c76-49e5-f5f3-f81591cbad4d"
      },
      "source": [
        "pearsonr(X_train.overdue_credit_count, y_train)"
      ],
      "execution_count": null,
      "outputs": [
        {
          "output_type": "execute_result",
          "data": {
            "text/plain": [
              "(0.026209318093173273, 1.2056378685601838e-18)"
            ]
          },
          "metadata": {},
          "execution_count": 78
        }
      ]
    },
    {
      "cell_type": "code",
      "metadata": {
        "colab": {
          "base_uri": "https://localhost:8080/"
        },
        "id": "dKw5rLmfD6g3",
        "outputId": "875baa9a-1ea3-4c95-ad2e-10dcf4eb9b4b"
      },
      "source": [
        "X_train.drop('overdue_credit_count', axis=1, inplace=True), X_valid.drop('overdue_credit_count', axis=1, inplace=True)"
      ],
      "execution_count": null,
      "outputs": [
        {
          "output_type": "execute_result",
          "data": {
            "text/plain": [
              "(None, None)"
            ]
          },
          "metadata": {},
          "execution_count": 79
        }
      ]
    },
    {
      "cell_type": "code",
      "metadata": {
        "colab": {
          "base_uri": "https://localhost:8080/",
          "height": 352
        },
        "id": "41JxarSkdzmW",
        "outputId": "d9d67ebd-7766-46d2-a8b8-d21f59b2f5c7"
      },
      "source": [
        "sns.heatmap(X_train.corr());"
      ],
      "execution_count": null,
      "outputs": [
        {
          "output_type": "display_data",
          "data": {
            "image/png": "[encoded data removed]",
            "text/plain": [
              "<Figure size 432x288 with 2 Axes>"
            ]
          },
          "metadata": {
            "needs_background": "light"
          }
        }
      ]
    },
    {
      "cell_type": "code",
      "metadata": {
        "colab": {
          "base_uri": "https://localhost:8080/"
        },
        "id": "WbQ66SFbCaNv",
        "outputId": "e152f061-f65b-433b-d596-e07898480e43"
      },
      "source": [
        "pca = PCA(random_state=17)\n",
        "\n",
        "params_pca = {'n_components' : np.arange(1, 16)}\n",
        "\n",
        "best_pca = GridSearchCV(pca, params_pca, cv=5, verbose=1).fit(X_train, y_train).best_estimator_\n",
        "\n",
        "print(best_pca)\n",
        "\n",
        "#print(classification_report(y_valid, best_pca.predict(X_valid)))"
      ],
      "execution_count": null,
      "outputs": [
        {
          "output_type": "stream",
          "name": "stdout",
          "text": [
            "Fitting 5 folds for each of 15 candidates, totalling 75 fits\n"
          ]
        },
        {
          "output_type": "stream",
          "name": "stderr",
          "text": [
            "[Parallel(n_jobs=1)]: Using backend SequentialBackend with 1 concurrent workers.\n"
          ]
        },
        {
          "output_type": "stream",
          "name": "stdout",
          "text": [
            "PCA(copy=True, iterated_power='auto', n_components=12, random_state=17,\n",
            "    svd_solver='auto', tol=0.0, whiten=False)\n"
          ]
        },
        {
          "output_type": "stream",
          "name": "stderr",
          "text": [
            "[Parallel(n_jobs=1)]: Done  75 out of  75 | elapsed:   17.7s finished\n"
          ]
        }
      ]
    },
    {
      "cell_type": "code",
      "metadata": {
        "id": "9EgULRhNDVjh"
      },
      "source": [
        "X_train_reduced = pd.DataFrame(best_pca.fit_transform(X_train))\n",
        "X_valid_reduced = pd.DataFrame(best_pca.transform(X_valid))"
      ],
      "execution_count": null,
      "outputs": []
    },
    {
      "cell_type": "code",
      "metadata": {
        "id": "AAX3mtSMeB5w",
        "colab": {
          "base_uri": "https://localhost:8080/"
        },
        "outputId": "4d92f5b2-c0b2-4acd-bf85-fc1fbc7c4783"
      },
      "source": [
        "params_lr = {'C' : [0.0001, 0.001, 0.1, 1]}\n",
        "\n",
        "lr = LogisticRegression(random_state=17)\n",
        "\n",
        "lr_best = GridSearchCV(lr, params_lr, scoring='roc_auc', verbose=True, n_jobs=-1, cv=5).fit(X_train_reduced, y_train).best_estimator_"
      ],
      "execution_count": null,
      "outputs": [
        {
          "output_type": "stream",
          "name": "stdout",
          "text": [
            "Fitting 5 folds for each of 4 candidates, totalling 20 fits\n"
          ]
        },
        {
          "output_type": "stream",
          "name": "stderr",
          "text": [
            "[Parallel(n_jobs=-1)]: Using backend LokyBackend with 2 concurrent workers.\n",
            "[Parallel(n_jobs=-1)]: Done  20 out of  20 | elapsed:   17.9s finished\n"
          ]
        }
      ]
    },
    {
      "cell_type": "code",
      "metadata": {
        "colab": {
          "base_uri": "https://localhost:8080/"
        },
        "id": "HZu8SgYBGsaL",
        "outputId": "9475a0c7-4471-43c5-c0fc-815801cbc480"
      },
      "source": [
        "print(classification_report(y_valid, lr_best.predict(X_valid_reduced)))"
      ],
      "execution_count": null,
      "outputs": [
        {
          "output_type": "stream",
          "name": "stdout",
          "text": [
            "              precision    recall  f1-score   support\n",
            "\n",
            "           0       0.84      0.93      0.88     40473\n",
            "           1       0.22      0.10      0.14      7982\n",
            "\n",
            "    accuracy                           0.80     48455\n",
            "   macro avg       0.53      0.52      0.51     48455\n",
            "weighted avg       0.74      0.80      0.76     48455\n",
            "\n"
          ]
        }
      ]
    },
    {
      "cell_type": "code",
      "metadata": {
        "colab": {
          "base_uri": "https://localhost:8080/",
          "height": 279
        },
        "id": "AIKg6b0GOPbI",
        "outputId": "ada2a010-f384-4176-b6e5-dd28f7bf29aa"
      },
      "source": [
        "plot_roc_curve(lr_best, X_valid_reduced, y_valid);"
      ],
      "execution_count": null,
      "outputs": [
        {
          "output_type": "display_data",
          "data": {
            "image/png": "[encoded data removed]",
            "text/plain": [
              "<Figure size 432x288 with 1 Axes>"
            ]
          },
          "metadata": {
            "needs_background": "light"
          }
        }
      ]
    },
    {
      "cell_type": "code",
      "metadata": {
        "colab": {
          "base_uri": "https://localhost:8080/"
        },
        "id": "UCVyMLMUOjn9",
        "outputId": "1db52e47-56e3-4ed7-f60a-178467943e72"
      },
      "source": [
        "sgd = SGDClassifier(random_state=17)\n",
        "\n",
        "sgd_params = {'alpha' : [0.00001, 0.0001, 0.001],\n",
        "              'max_iter' : [10, 15]}\n",
        "\n",
        "best_sgd = GridSearchCV(sgd, param_grid=sgd_params, scoring='roc_auc', verbose=1, n_jobs=-1, cv=5).fit(X_train_reduced, y_train).best_estimator_\n",
        "\n",
        "print(classification_report(y_valid, best_sgd.predict(X_valid_reduced)))"
      ],
      "execution_count": null,
      "outputs": [
        {
          "output_type": "stream",
          "name": "stdout",
          "text": [
            "Fitting 5 folds for each of 6 candidates, totalling 30 fits\n"
          ]
        },
        {
          "output_type": "stream",
          "name": "stderr",
          "text": [
            "[Parallel(n_jobs=-1)]: Using backend LokyBackend with 2 concurrent workers.\n",
            "[Parallel(n_jobs=-1)]: Done  30 out of  30 | elapsed:    4.5s finished\n"
          ]
        },
        {
          "output_type": "stream",
          "name": "stdout",
          "text": [
            "              precision    recall  f1-score   support\n",
            "\n",
            "           0       0.82      0.61      0.70     40473\n",
            "           1       0.14      0.33      0.20      7982\n",
            "\n",
            "    accuracy                           0.57     48455\n",
            "   macro avg       0.48      0.47      0.45     48455\n",
            "weighted avg       0.71      0.57      0.62     48455\n",
            "\n"
          ]
        }
      ]
    },
    {
      "cell_type": "code",
      "metadata": {
        "colab": {
          "base_uri": "https://localhost:8080/",
          "height": 279
        },
        "id": "tk8USW0JQz9U",
        "outputId": "24667039-9b6e-4f2d-fa2e-2790fc963439"
      },
      "source": [
        "plot_roc_curve(best_sgd, X_valid_reduced, y_valid);"
      ],
      "execution_count": null,
      "outputs": [
        {
          "output_type": "display_data",
          "data": {
            "image/png": "[encoded data removed]",
            "text/plain": [
              "<Figure size 432x288 with 1 Axes>"
            ]
          },
          "metadata": {
            "needs_background": "light"
          }
        }
      ]
    },
    {
      "cell_type": "code",
      "metadata": {
        "colab": {
          "base_uri": "https://localhost:8080/"
        },
        "id": "z7oh7iyHQ7qt",
        "outputId": "3afa3bf1-cc7e-47e5-bc78-96822d6cacb6"
      },
      "source": [
        "rf = RandomForestClassifier(random_state=17)\n",
        "\n",
        "params_rf = {'n_estimators' : [10, 20, 40, 50, 75, 100],\n",
        "             'max_depth' : [5, 10, 15]}\n",
        "\n",
        "best_rf = GridSearchCV(rf, params_rf, verbose=1, n_jobs=-1, cv=5).fit(X_train_reduced, y_train).best_estimator_"
      ],
      "execution_count": null,
      "outputs": [
        {
          "output_type": "stream",
          "name": "stdout",
          "text": [
            "Fitting 5 folds for each of 18 candidates, totalling 90 fits\n"
          ]
        },
        {
          "output_type": "stream",
          "name": "stderr",
          "text": [
            "[Parallel(n_jobs=-1)]: Using backend LokyBackend with 2 concurrent workers.\n",
            "[Parallel(n_jobs=-1)]: Done  46 tasks      | elapsed:  3.9min\n",
            "[Parallel(n_jobs=-1)]: Done  90 out of  90 | elapsed: 13.3min finished\n"
          ]
        }
      ]
    },
    {
      "cell_type": "code",
      "metadata": {
        "colab": {
          "base_uri": "https://localhost:8080/"
        },
        "id": "_X_Tv4jldZdZ",
        "outputId": "c2a3733b-958a-4a91-e3c4-69e9648447ad"
      },
      "source": [
        "print(classification_report(y_valid, best_rf.predict(X_valid_reduced)))"
      ],
      "execution_count": null,
      "outputs": [
        {
          "output_type": "stream",
          "name": "stdout",
          "text": [
            "              precision    recall  f1-score   support\n",
            "\n",
            "           0       0.84      1.00      0.91     40473\n",
            "           1       0.66      0.01      0.02      7982\n",
            "\n",
            "    accuracy                           0.84     48455\n",
            "   macro avg       0.75      0.50      0.46     48455\n",
            "weighted avg       0.81      0.84      0.76     48455\n",
            "\n"
          ]
        }
      ]
    },
    {
      "cell_type": "code",
      "metadata": {
        "colab": {
          "base_uri": "https://localhost:8080/",
          "height": 279
        },
        "id": "-71Redjvg5I6",
        "outputId": "71be1a5b-3d39-47eb-ac6e-5b2e375dca33"
      },
      "source": [
        "plot_roc_curve(best_rf, X_valid_reduced, y_valid);"
      ],
      "execution_count": null,
      "outputs": [
        {
          "output_type": "display_data",
          "data": {
            "image/png": "[encoded data removed]",
            "text/plain": [
              "<Figure size 432x288 with 1 Axes>"
            ]
          },
          "metadata": {
            "needs_background": "light"
          }
        }
      ]
    },
    {
      "cell_type": "code",
      "metadata": {
        "colab": {
          "base_uri": "https://localhost:8080/"
        },
        "id": "QObO8fyN8TMw",
        "outputId": "4853cf38-1cfa-42fd-9c39-22edde08b9fd"
      },
      "source": [
        "tree = DecisionTreeClassifier(random_state=17)\n",
        "\n",
        "params_tree = {'max_depth' : [5, 10, 15],\n",
        "               'min_samples_leaf' : [5, 10, 20]}\n",
        "\n",
        "best_tree = GridSearchCV(tree, params_tree, cv=5, n_jobs=-1, verbose=1, scoring='roc_auc').fit(X_train_reduced, y_train).best_estimator_\n",
        "\n",
        "print(classification_report(y_valid, best_tree.predict(X_valid_reduced)))"
      ],
      "execution_count": null,
      "outputs": [
        {
          "output_type": "stream",
          "name": "stdout",
          "text": [
            "Fitting 5 folds for each of 9 candidates, totalling 45 fits\n"
          ]
        },
        {
          "output_type": "stream",
          "name": "stderr",
          "text": [
            "[Parallel(n_jobs=-1)]: Using backend LokyBackend with 2 concurrent workers.\n",
            "[Parallel(n_jobs=-1)]: Done  45 out of  45 | elapsed:   47.5s finished\n"
          ]
        },
        {
          "output_type": "stream",
          "name": "stdout",
          "text": [
            "              precision    recall  f1-score   support\n",
            "\n",
            "           0       0.84      0.99      0.91     40473\n",
            "           1       0.41      0.04      0.08      7982\n",
            "\n",
            "    accuracy                           0.83     48455\n",
            "   macro avg       0.63      0.52      0.49     48455\n",
            "weighted avg       0.77      0.83      0.77     48455\n",
            "\n"
          ]
        }
      ]
    },
    {
      "cell_type": "code",
      "metadata": {
        "colab": {
          "base_uri": "https://localhost:8080/",
          "height": 279
        },
        "id": "Ioo09S329Uwp",
        "outputId": "87203b71-71e3-44b6-8fdc-4cb2ab54b60c"
      },
      "source": [
        "plot_roc_curve(best_tree, X_valid_reduced, y_valid);"
      ],
      "execution_count": null,
      "outputs": [
        {
          "output_type": "display_data",
          "data": {
            "image/png": "[encoded data removed]",
            "text/plain": [
              "<Figure size 432x288 with 1 Axes>"
            ]
          },
          "metadata": {
            "needs_background": "light"
          }
        }
      ]
    },
    {
      "cell_type": "code",
      "metadata": {
        "id": "Fr7a6k6Rg-mC",
        "colab": {
          "base_uri": "https://localhost:8080/"
        },
        "outputId": "58f73251-7e3f-4eaf-975e-af5db4fbd92b"
      },
      "source": [
        "bag = BaggingClassifier()\n",
        "\n",
        "params_bag = {'base_estimator' : [lr_best, best_tree, best_sgd],\n",
        "              'n_estimators' : [10, 25, 50, 100]}\n",
        "\n",
        "best_bag = GridSearchCV(bag, params_bag, cv=5, n_jobs=-1, verbose=1, scoring='roc_auc').fit(X_train_reduced, y_train).best_estimator_\n",
        "\n",
        "print(classification_report(y_valid, best_bag.predict(X_valid_reduced)))"
      ],
      "execution_count": null,
      "outputs": [
        {
          "output_type": "stream",
          "name": "stdout",
          "text": [
            "Fitting 5 folds for each of 12 candidates, totalling 60 fits\n"
          ]
        },
        {
          "output_type": "stream",
          "name": "stderr",
          "text": [
            "[Parallel(n_jobs=-1)]: Using backend LokyBackend with 2 concurrent workers.\n",
            "[Parallel(n_jobs=-1)]: Done  46 tasks      | elapsed: 23.2min\n",
            "[Parallel(n_jobs=-1)]: Done  60 out of  60 | elapsed: 25.3min finished\n"
          ]
        },
        {
          "output_type": "stream",
          "name": "stdout",
          "text": [
            "              precision    recall  f1-score   support\n",
            "\n",
            "           0       0.84      1.00      0.91     40473\n",
            "           1       0.62      0.01      0.03      7982\n",
            "\n",
            "    accuracy                           0.84     48455\n",
            "   macro avg       0.73      0.51      0.47     48455\n",
            "weighted avg       0.80      0.84      0.77     48455\n",
            "\n"
          ]
        }
      ]
    },
    {
      "cell_type": "code",
      "metadata": {
        "colab": {
          "base_uri": "https://localhost:8080/",
          "height": 279
        },
        "id": "HkKzrpw--ROq",
        "outputId": "b083f73e-5e49-49ac-d86b-d4a2453d2044"
      },
      "source": [
        "plot_roc_curve(best_bag, X_valid_reduced, y_valid);"
      ],
      "execution_count": null,
      "outputs": [
        {
          "output_type": "display_data",
          "data": {
            "image/png": "[encoded data removed]",
            "text/plain": [
              "<Figure size 432x288 with 1 Axes>"
            ]
          },
          "metadata": {
            "needs_background": "light"
          }
        }
      ]
    },
    {
      "cell_type": "code",
      "metadata": {
        "colab": {
          "base_uri": "https://localhost:8080/"
        },
        "id": "n0c0DZd1Fojy",
        "outputId": "d3a5314f-3e28-4814-a9fd-9c1baaabb3d8"
      },
      "source": [
        "knn = KNeighborsClassifier()\n",
        "\n",
        "params_knn = {'n_neighbors' : np.arange(10),\n",
        "              'metric' : ['euclidean', 'minkowski']}\n",
        "\n",
        "best_knn = GridSearchCV(knn, params_knn, cv=5, verbose=1, n_jobs=-1, scoring='roc_auc').fit(X_train_reduced, y_train).best_estimator_\n",
        "\n",
        "print(classification_report(y_valid, best_knn.predict(X_valid_reduced)))"
      ],
      "execution_count": null,
      "outputs": [
        {
          "output_type": "stream",
          "name": "stdout",
          "text": [
            "Fitting 5 folds for each of 20 candidates, totalling 100 fits\n"
          ]
        },
        {
          "output_type": "stream",
          "name": "stderr",
          "text": [
            "[Parallel(n_jobs=-1)]: Using backend LokyBackend with 2 concurrent workers.\n",
            "[Parallel(n_jobs=-1)]: Done  46 tasks      | elapsed:   19.2s\n",
            "[Parallel(n_jobs=-1)]: Done 100 out of 100 | elapsed:   40.5s finished\n"
          ]
        },
        {
          "output_type": "stream",
          "name": "stdout",
          "text": [
            "              precision    recall  f1-score   support\n",
            "\n",
            "           0       0.84      0.99      0.91     40473\n",
            "           1       0.25      0.02      0.04      7982\n",
            "\n",
            "    accuracy                           0.83     48455\n",
            "   macro avg       0.54      0.50      0.47     48455\n",
            "weighted avg       0.74      0.83      0.76     48455\n",
            "\n"
          ]
        }
      ]
    },
    {
      "cell_type": "code",
      "metadata": {
        "colab": {
          "base_uri": "https://localhost:8080/",
          "height": 279
        },
        "id": "NyJ1Zl1Va0GH",
        "outputId": "7c41db40-1d5f-4493-d1c6-0481d28b3f99"
      },
      "source": [
        "plot_roc_curve(best_knn, X_valid_reduced, y_valid);"
      ],
      "execution_count": null,
      "outputs": [
        {
          "output_type": "display_data",
          "data": {
            "image/png": "[encoded data removed]",
            "text/plain": [
              "<Figure size 432x288 with 1 Axes>"
            ]
          },
          "metadata": {
            "needs_background": "light"
          }
        }
      ]
    },
    {
      "cell_type": "code",
      "metadata": {
        "colab": {
          "base_uri": "https://localhost:8080/"
        },
        "id": "vQw0-KsqbSli",
        "outputId": "4f3935b6-14f9-446a-904d-80eba8224374"
      },
      "source": [
        "mlp = MLPClassifier(random_state=17)\n",
        "\n",
        "params_mlp = {'hidden_layer_sizes' : [(100,), (64, ), (128,)],\n",
        "              'alpha' : [0.0001, 0.001, 0.01, 0.1]}\n",
        "\n",
        "best_mlp = GridSearchCV(mlp, params_mlp, cv=5, verbose=1, n_jobs=-1, scoring='roc_auc').fit(X_train_reduced, y_train).best_estimator_\n",
        "\n",
        "print(classification_report(y_valid, best_mlp.predict(X_valid_reduced)))"
      ],
      "execution_count": null,
      "outputs": [
        {
          "output_type": "stream",
          "name": "stdout",
          "text": [
            "Fitting 5 folds for each of 12 candidates, totalling 60 fits\n"
          ]
        },
        {
          "output_type": "stream",
          "name": "stderr",
          "text": [
            "[Parallel(n_jobs=-1)]: Using backend LokyBackend with 2 concurrent workers.\n",
            "[Parallel(n_jobs=-1)]: Done  46 tasks      | elapsed: 49.0min\n",
            "[Parallel(n_jobs=-1)]: Done  60 out of  60 | elapsed: 62.2min finished\n"
          ]
        },
        {
          "output_type": "stream",
          "name": "stdout",
          "text": [
            "              precision    recall  f1-score   support\n",
            "\n",
            "           0       0.84      1.00      0.91     40473\n",
            "           1       0.29      0.00      0.00      7982\n",
            "\n",
            "    accuracy                           0.83     48455\n",
            "   macro avg       0.56      0.50      0.46     48455\n",
            "weighted avg       0.75      0.83      0.76     48455\n",
            "\n"
          ]
        }
      ]
    },
    {
      "cell_type": "code",
      "metadata": {
        "colab": {
          "base_uri": "https://localhost:8080/",
          "height": 296
        },
        "id": "ulgt7Gn2c-NF",
        "outputId": "b854494a-d84c-4da1-d229-308b04dcd9e9"
      },
      "source": [
        "plot_roc_curve(best_mlp, X_valid_reduced, y_valid)"
      ],
      "execution_count": null,
      "outputs": [
        {
          "output_type": "execute_result",
          "data": {
            "text/plain": [
              "<sklearn.metrics._plot.roc_curve.RocCurveDisplay at 0x7f1297e47d10>"
            ]
          },
          "metadata": {},
          "execution_count": 109
        },
        {
          "output_type": "display_data",
          "data": {
            "image/png": "[encoded data removed]",
            "text/plain": [
              "<Figure size 432x288 with 1 Axes>"
            ]
          },
          "metadata": {
            "needs_background": "light"
          }
        }
      ]
    },
    {
      "cell_type": "code",
      "metadata": {
        "colab": {
          "base_uri": "https://localhost:8080/"
        },
        "id": "ulb71Q-Qtz2Y",
        "outputId": "a5d13898-56c8-43a2-87c5-9b0012893841"
      },
      "source": [
        "cat = CatBoostClassifier()\n",
        "\n",
        "params_cat = {'iterations' : np.arange(1, 50),\n",
        "              'learning_rate' : [0.0001, 0.001, 0.01, 0.1],\n",
        "              'depth' : [5, 7, 9, 11],\n",
        "              'loss_function' : ['CrossEntropy','F1']}\n",
        "\n",
        "best_cat = GridSearchCV(cat, params_cat, scoring='roc_auc', n_jobs=-1, cv=5, verbose=1).fit(X_train_reduced, y_train).best_estimator_\n",
        "\n",
        "print(classification_report(y_valid, best_cat.predict(X_valid_reduced)))"
      ],
      "execution_count": null,
      "outputs": [
        {
          "output_type": "stream",
          "name": "stdout",
          "text": [
            "Fitting 5 folds for each of 1568 candidates, totalling 7840 fits\n"
          ]
        },
        {
          "output_type": "stream",
          "name": "stderr",
          "text": [
            "[Parallel(n_jobs=-1)]: Using backend LokyBackend with 2 concurrent workers.\n",
            "[Parallel(n_jobs=-1)]: Done  46 tasks      | elapsed:    6.7s\n",
            "[Parallel(n_jobs=-1)]: Done 196 tasks      | elapsed:   24.7s\n",
            "[Parallel(n_jobs=-1)]: Done 446 tasks      | elapsed:  1.1min\n",
            "[Parallel(n_jobs=-1)]: Done 796 tasks      | elapsed:  2.7min\n",
            "[Parallel(n_jobs=-1)]: Done 1246 tasks      | elapsed:  5.5min\n",
            "[Parallel(n_jobs=-1)]: Done 1796 tasks      | elapsed: 10.5min\n",
            "[Parallel(n_jobs=-1)]: Done 2446 tasks      | elapsed: 13.7min\n",
            "[Parallel(n_jobs=-1)]: Done 3196 tasks      | elapsed: 19.0min\n",
            "[Parallel(n_jobs=-1)]: Done 4046 tasks      | elapsed: 27.9min\n",
            "[Parallel(n_jobs=-1)]: Done 4996 tasks      | elapsed: 35.2min\n",
            "[Parallel(n_jobs=-1)]: Done 6046 tasks      | elapsed: 51.0min\n",
            "[Parallel(n_jobs=-1)]: Done 7196 tasks      | elapsed: 73.1min\n",
            "[Parallel(n_jobs=-1)]: Done 7840 out of 7840 | elapsed: 99.3min finished\n"
          ]
        },
        {
          "output_type": "stream",
          "name": "stdout",
          "text": [
            "0:\tlearn: 0.6500992\ttotal: 180ms\tremaining: 8.65s\n",
            "1:\tlearn: 0.6150434\ttotal: 300ms\tremaining: 7.05s\n",
            "2:\tlearn: 0.5856675\ttotal: 418ms\tremaining: 6.42s\n",
            "3:\tlearn: 0.5609854\ttotal: 536ms\tremaining: 6.03s\n",
            "4:\tlearn: 0.5404753\ttotal: 658ms\tremaining: 5.79s\n",
            "5:\tlearn: 0.5224716\ttotal: 779ms\tremaining: 5.58s\n",
            "6:\tlearn: 0.5076809\ttotal: 894ms\tremaining: 5.37s\n",
            "7:\tlearn: 0.4950794\ttotal: 1.01s\tremaining: 5.18s\n",
            "8:\tlearn: 0.4845276\ttotal: 1.13s\tremaining: 5.02s\n",
            "9:\tlearn: 0.4748573\ttotal: 1.25s\tremaining: 4.88s\n",
            "10:\tlearn: 0.4667812\ttotal: 1.36s\tremaining: 4.71s\n",
            "11:\tlearn: 0.4600127\ttotal: 1.48s\tremaining: 4.56s\n",
            "12:\tlearn: 0.4535195\ttotal: 1.6s\tremaining: 4.42s\n",
            "13:\tlearn: 0.4479867\ttotal: 1.72s\tremaining: 4.29s\n",
            "14:\tlearn: 0.4434066\ttotal: 1.84s\tremaining: 4.17s\n",
            "15:\tlearn: 0.4394087\ttotal: 1.95s\tremaining: 4.03s\n",
            "16:\tlearn: 0.4361963\ttotal: 2.07s\tremaining: 3.9s\n",
            "17:\tlearn: 0.4329698\ttotal: 2.18s\tremaining: 3.76s\n",
            "18:\tlearn: 0.4300914\ttotal: 2.3s\tremaining: 3.63s\n",
            "19:\tlearn: 0.4281001\ttotal: 2.42s\tremaining: 3.5s\n",
            "20:\tlearn: 0.4263903\ttotal: 2.53s\tremaining: 3.37s\n",
            "21:\tlearn: 0.4246782\ttotal: 2.65s\tremaining: 3.25s\n",
            "22:\tlearn: 0.4227805\ttotal: 2.76s\tremaining: 3.12s\n",
            "23:\tlearn: 0.4212731\ttotal: 2.89s\tremaining: 3.01s\n",
            "24:\tlearn: 0.4199137\ttotal: 3.01s\tremaining: 2.89s\n",
            "25:\tlearn: 0.4185575\ttotal: 3.12s\tremaining: 2.76s\n",
            "26:\tlearn: 0.4171571\ttotal: 3.23s\tremaining: 2.64s\n",
            "27:\tlearn: 0.4160869\ttotal: 3.35s\tremaining: 2.51s\n",
            "28:\tlearn: 0.4149771\ttotal: 3.46s\tremaining: 2.39s\n",
            "29:\tlearn: 0.4138243\ttotal: 3.58s\tremaining: 2.27s\n",
            "30:\tlearn: 0.4130367\ttotal: 3.7s\tremaining: 2.15s\n",
            "31:\tlearn: 0.4123172\ttotal: 3.82s\tremaining: 2.03s\n",
            "32:\tlearn: 0.4115580\ttotal: 3.95s\tremaining: 1.92s\n",
            "33:\tlearn: 0.4108477\ttotal: 4.06s\tremaining: 1.79s\n",
            "34:\tlearn: 0.4098358\ttotal: 4.18s\tremaining: 1.67s\n",
            "35:\tlearn: 0.4093906\ttotal: 4.29s\tremaining: 1.55s\n",
            "36:\tlearn: 0.4084422\ttotal: 4.42s\tremaining: 1.43s\n",
            "37:\tlearn: 0.4074668\ttotal: 4.53s\tremaining: 1.31s\n",
            "38:\tlearn: 0.4065466\ttotal: 4.65s\tremaining: 1.19s\n",
            "39:\tlearn: 0.4060332\ttotal: 4.76s\tremaining: 1.07s\n",
            "40:\tlearn: 0.4055820\ttotal: 4.89s\tremaining: 953ms\n",
            "41:\tlearn: 0.4051224\ttotal: 5s\tremaining: 834ms\n",
            "42:\tlearn: 0.4046267\ttotal: 5.12s\tremaining: 714ms\n",
            "43:\tlearn: 0.4043107\ttotal: 5.23s\tremaining: 594ms\n",
            "44:\tlearn: 0.4035711\ttotal: 5.35s\tremaining: 475ms\n",
            "45:\tlearn: 0.4032170\ttotal: 5.46s\tremaining: 356ms\n",
            "46:\tlearn: 0.4027430\ttotal: 5.58s\tremaining: 237ms\n",
            "47:\tlearn: 0.4022873\ttotal: 5.69s\tremaining: 119ms\n",
            "48:\tlearn: 0.4018822\ttotal: 5.82s\tremaining: 0us\n",
            "              precision    recall  f1-score   support\n",
            "\n",
            "           0       0.84      1.00      0.91     40473\n",
            "           1       0.69      0.01      0.01      7982\n",
            "\n",
            "    accuracy                           0.84     48455\n",
            "   macro avg       0.76      0.50      0.46     48455\n",
            "weighted avg       0.81      0.84      0.76     48455\n",
            "\n"
          ]
        }
      ]
    },
    {
      "cell_type": "code",
      "metadata": {
        "colab": {
          "base_uri": "https://localhost:8080/",
          "height": 279
        },
        "id": "esfZdJoMvtje",
        "outputId": "21a07a48-d1d3-491b-c1f5-eda142fdd46f"
      },
      "source": [
        "plot_roc_curve(best_cat, X_valid_reduced, y_valid);"
      ],
      "execution_count": null,
      "outputs": [
        {
          "output_type": "display_data",
          "data": {
            "image/png": "[encoded data removed]",
            "text/plain": [
              "<Figure size 432x288 with 1 Axes>"
            ]
          },
          "metadata": {
            "needs_background": "light"
          }
        }
      ]
    },
    {
      "cell_type": "code",
      "metadata": {
        "id": "dNIhpIrpIgPk"
      },
      "source": [
        "xgb = xgboost.XGBClassifier()"
      ],
      "execution_count": null,
      "outputs": []
    },
    {
      "cell_type": "code",
      "metadata": {
        "id": "obTpq6TFI5Wj"
      },
      "source": [
        "s"
      ],
      "execution_count": null,
      "outputs": []
    }
  ]
}