{
  "nbformat": 4,
  "nbformat_minor": 0,
  "metadata": {
    "colab": {
      "name": "Best_Tinkoff_clients_classification.ipynb",
      "provenance": [],
      "collapsed_sections": [],
      "include_colab_link": true
    },
    "kernelspec": {
      "name": "python3",
      "display_name": "Python 3"
    },
    "language_info": {
      "name": "python"
    },
    "accelerator": "GPU"
  },
  "cells": [
    {
      "cell_type": "markdown",
      "metadata": {
        "id": "view-in-github",
        "colab_type": "text"
      },
      "source": [
        "<a href=\"https://colab.research.google.com/github/lompas10/DS-Tinkoff-Challenge-2k17/blob/main/Best_Tinkoff_clients_classification.ipynb\" target=\"_parent\"><img src=\"https://colab.research.google.com/assets/colab-badge.svg\" alt=\"Open In Colab\"/></a>"
      ]
    },
    {
      "cell_type": "markdown",
      "metadata": {
        "id": "gN4H-ohP5SBq"
      },
      "source": [
        "<img src='https://zoogen.org/images/rus/images/logo/tinkoff.jpg' width=1050 height = 500 >\n",
        "\n",
        "\n",
        "---\n",
        "\n",
        "\n",
        "<p align=\"center\">\n",
        "<font size=11>\n",
        "<font face='Cooper black' color='Pink'>Pet-project. Prediction of the client's choice of Tinkoff bank for obtaining a loan</p>\n",
        "\n",
        "\n",
        "---\n",
        "\n",
        "\n",
        "\n",
        "\n",
        "\n",
        "<font color='yellow' size = 6>Target: To classify clients according to the choice of Tinkoff Bank clients for obtaining a loan.\n",
        "\n",
        "\n",
        "\n",
        "\n",
        "\n",
        "---\n",
        "<font size=6 color = 'violet' face='Cooper black'> Author: Pavel Lomovtsev, Junior Data Scientist, *@lompas10*\n",
        "---\n",
        "\n",
        "\n"
      ]
    },
    {
      "cell_type": "markdown",
      "metadata": {
        "id": "1ehEfbmEBrgX"
      },
      "source": [
        "\n",
        "\n",
        "---\n",
        "\n"
      ]
    },
    {
      "cell_type": "code",
      "metadata": {
        "id": "JpgtHqlyGAv_"
      },
      "source": [
        "import pandas as pd #reading and dataframes\n",
        "import numpy as np #stats\n",
        "\n",
        "\n",
        "import seaborn as sns #visualization\n",
        "import matplotlib.pyplot as plt\n",
        "%matplotlib inline\n",
        "\n",
        "from sklearn.model_selection import train_test_split #ML\n",
        "from sklearn.preprocessing import StandardScaler, LabelEncoder\n",
        "from sklearn.model_selection import GridSearchCV\n",
        "from sklearn.linear_model import LogisticRegression, SGDClassifier\n",
        "from sklearn.tree import DecisionTreeClassifier\n",
        "from sklearn.ensemble import RandomForestClassifier, BaggingClassifier\n",
        "from sklearn.neighbors import KNeighborsClassifier\n",
        "from sklearn.neural_network import MLPClassifier\n",
        "from sklearn.decomposition import PCA \n",
        "from sklearn.svm import SVC\n",
        "from sklearn.feature_selection import VarianceThreshold\n",
        "from sklearn.metrics import classification_report, roc_auc_score, roc_curve, plot_roc_curve, precision_recall_fscore_support, recall_score, roc_auc_score, precision_score, plot_precision_recall_curve, auc\n",
        "import xgboost\n",
        "\n",
        "from scipy.stats import pearsonr\n",
        "import scipy\n",
        "\n",
        "import warnings\n",
        "warnings.filterwarnings('ignore')\n",
        "\n",
        "np.random.seed(17)"
      ],
      "execution_count": 73,
      "outputs": []
    },
    {
      "cell_type": "markdown",
      "metadata": {
        "id": "3zUZvRVCzwh5"
      },
      "source": [
        "<font color='Red' size=7> 1.Data reading and preprocessing, normalizing."
      ]
    },
    {
      "cell_type": "code",
      "metadata": {
        "id": "iy0vqMddGDRe"
      },
      "source": [
        "train = pd.read_csv('credit_train.csv', sep='\\t', encoding='windows-1251', decimal=',')\n",
        "test = pd.read_csv('credit_test.csv', sep='\\t', encoding='windows-1251', decimal=',')"
      ],
      "execution_count": 102,
      "outputs": []
    },
    {
      "cell_type": "code",
      "metadata": {
        "id": "_rbVIig_xqFP",
        "colab": {
          "base_uri": "https://localhost:8080/",
          "height": 282
        },
        "outputId": "08532a88-6e01-4392-b79e-d9f181058c67"
      },
      "source": [
        "train.head()"
      ],
      "execution_count": 5,
      "outputs": [
        {
          "output_type": "execute_result",
          "data": {
            "text/html": [
              "<div>\n",
              "<style scoped>\n",
              "    .dataframe tbody tr th:only-of-type {\n",
              "        vertical-align: middle;\n",
              "    }\n",
              "\n",
              "    .dataframe tbody tr th {\n",
              "        vertical-align: top;\n",
              "    }\n",
              "\n",
              "    .dataframe thead th {\n",
              "        text-align: right;\n",
              "    }\n",
              "</style>\n",
              "<table border=\"1\" class=\"dataframe\">\n",
              "  <thead>\n",
              "    <tr style=\"text-align: right;\">\n",
              "      <th></th>\n",
              "      <th>client_id</th>\n",
              "      <th>gender</th>\n",
              "      <th>age</th>\n",
              "      <th>marital_status</th>\n",
              "      <th>job_position</th>\n",
              "      <th>credit_sum</th>\n",
              "      <th>credit_month</th>\n",
              "      <th>tariff_id</th>\n",
              "      <th>score_shk</th>\n",
              "      <th>education</th>\n",
              "      <th>living_region</th>\n",
              "      <th>monthly_income</th>\n",
              "      <th>credit_count</th>\n",
              "      <th>overdue_credit_count</th>\n",
              "      <th>living_region_code</th>\n",
              "      <th>open_account_flg</th>\n",
              "    </tr>\n",
              "  </thead>\n",
              "  <tbody>\n",
              "    <tr>\n",
              "      <th>0</th>\n",
              "      <td>1</td>\n",
              "      <td>M</td>\n",
              "      <td>48</td>\n",
              "      <td>MAR</td>\n",
              "      <td>UMN</td>\n",
              "      <td>59998.00</td>\n",
              "      <td>10</td>\n",
              "      <td>1.6</td>\n",
              "      <td>0.770249</td>\n",
              "      <td>GRD</td>\n",
              "      <td>КРАСНОДАРСКИЙ КРАЙ</td>\n",
              "      <td>30000</td>\n",
              "      <td>1</td>\n",
              "      <td>1</td>\n",
              "      <td>23</td>\n",
              "      <td>0</td>\n",
              "    </tr>\n",
              "    <tr>\n",
              "      <th>1</th>\n",
              "      <td>2</td>\n",
              "      <td>F</td>\n",
              "      <td>28</td>\n",
              "      <td>MAR</td>\n",
              "      <td>UMN</td>\n",
              "      <td>10889.00</td>\n",
              "      <td>6</td>\n",
              "      <td>1.1</td>\n",
              "      <td>0.248514</td>\n",
              "      <td>GRD</td>\n",
              "      <td>МОСКВА</td>\n",
              "      <td>43000</td>\n",
              "      <td>2</td>\n",
              "      <td>0</td>\n",
              "      <td>77</td>\n",
              "      <td>0</td>\n",
              "    </tr>\n",
              "    <tr>\n",
              "      <th>2</th>\n",
              "      <td>3</td>\n",
              "      <td>M</td>\n",
              "      <td>32</td>\n",
              "      <td>MAR</td>\n",
              "      <td>SPC</td>\n",
              "      <td>10728.00</td>\n",
              "      <td>12</td>\n",
              "      <td>1.1</td>\n",
              "      <td>0.459589</td>\n",
              "      <td>SCH</td>\n",
              "      <td>ОБЛ САРАТОВСКАЯ</td>\n",
              "      <td>23000</td>\n",
              "      <td>5</td>\n",
              "      <td>0</td>\n",
              "      <td>64</td>\n",
              "      <td>0</td>\n",
              "    </tr>\n",
              "    <tr>\n",
              "      <th>3</th>\n",
              "      <td>4</td>\n",
              "      <td>F</td>\n",
              "      <td>27</td>\n",
              "      <td>DIV</td>\n",
              "      <td>SPC</td>\n",
              "      <td>12009.09</td>\n",
              "      <td>12</td>\n",
              "      <td>1.1</td>\n",
              "      <td>0.362536</td>\n",
              "      <td>GRD</td>\n",
              "      <td>ОБЛ ВОЛГОГРАДСКАЯ</td>\n",
              "      <td>17000</td>\n",
              "      <td>2</td>\n",
              "      <td>0</td>\n",
              "      <td>34</td>\n",
              "      <td>0</td>\n",
              "    </tr>\n",
              "    <tr>\n",
              "      <th>4</th>\n",
              "      <td>5</td>\n",
              "      <td>M</td>\n",
              "      <td>45</td>\n",
              "      <td>MAR</td>\n",
              "      <td>SPC</td>\n",
              "      <td>16908.89</td>\n",
              "      <td>10</td>\n",
              "      <td>1.1</td>\n",
              "      <td>0.421385</td>\n",
              "      <td>SCH</td>\n",
              "      <td>ЧЕЛЯБИНСКАЯ ОБЛАСТЬ</td>\n",
              "      <td>25000</td>\n",
              "      <td>1</td>\n",
              "      <td>0</td>\n",
              "      <td>74</td>\n",
              "      <td>0</td>\n",
              "    </tr>\n",
              "  </tbody>\n",
              "</table>\n",
              "</div>"
            ],
            "text/plain": [
              "   client_id gender  ...  living_region_code open_account_flg\n",
              "0          1      M  ...                  23                0\n",
              "1          2      F  ...                  77                0\n",
              "2          3      M  ...                  64                0\n",
              "3          4      F  ...                  34                0\n",
              "4          5      M  ...                  74                0\n",
              "\n",
              "[5 rows x 16 columns]"
            ]
          },
          "metadata": {},
          "execution_count": 5
        }
      ]
    },
    {
      "cell_type": "code",
      "metadata": {
        "id": "jZqHAp2PKpoD",
        "colab": {
          "base_uri": "https://localhost:8080/"
        },
        "outputId": "a9abe242-5dcf-44b8-bcf5-9577afd281fa"
      },
      "source": [
        "train.dtypes"
      ],
      "execution_count": 6,
      "outputs": [
        {
          "output_type": "execute_result",
          "data": {
            "text/plain": [
              "client_id                 int64\n",
              "gender                   object\n",
              "age                       int64\n",
              "marital_status           object\n",
              "job_position             object\n",
              "credit_sum              float64\n",
              "credit_month              int64\n",
              "tariff_id                object\n",
              "score_shk               float64\n",
              "education                object\n",
              "living_region            object\n",
              "monthly_income            int64\n",
              "credit_count             object\n",
              "overdue_credit_count     object\n",
              "living_region_code        int64\n",
              "open_account_flg          int64\n",
              "dtype: object"
            ]
          },
          "metadata": {},
          "execution_count": 6
        }
      ]
    },
    {
      "cell_type": "code",
      "metadata": {
        "id": "VxTBMrtYHepK"
      },
      "source": [
        "train = train.drop(['living_region', 'client_id'], axis=1)"
      ],
      "execution_count": 7,
      "outputs": []
    },
    {
      "cell_type": "code",
      "metadata": {
        "id": "Lb9IkvCrzbdg",
        "colab": {
          "base_uri": "https://localhost:8080/"
        },
        "outputId": "580123ff-f387-40ef-8dba-432712c7eb7c"
      },
      "source": [
        "def unique_object_values(data):\n",
        "  for column in data.select_dtypes(include=['object']).columns:\n",
        "    print(column, data[column].unique(), end='\\n\\n')\n",
        "\n",
        "unique_object_values(train)"
      ],
      "execution_count": 8,
      "outputs": [
        {
          "output_type": "stream",
          "name": "stdout",
          "text": [
            "gender ['M' 'F']\n",
            "\n",
            "marital_status ['MAR' 'DIV' 'UNM' 'WID' 'CIV']\n",
            "\n",
            "job_position ['UMN' 'SPC' 'INP' 'DIR' 'ATP' 'PNA' 'BIS' 'WOI' 'NOR' 'WRK' 'WRP' 'PNV'\n",
            " 'BIU' 'PNI' 'HSK' 'PNS' 'INV' 'ONB']\n",
            "\n",
            "tariff_id ['1.6' '1.1' '1.5' '1' '1.32' '1.4' '1.7' '1.3' '1.16' '1.9' '1.22' '1.23'\n",
            " '1.43' '1.44' '1.19' '1.2' '1.21' '1.24' '1.91' '1.41' '1.17' '1.94'\n",
            " '1.25' '1.48' '1.52' '1.18' '1.26' '1.27' '1.28' '1.96' '1.56' '1.29']\n",
            "\n",
            "education ['GRD' 'SCH' 'UGR' 'PGR' 'ACD']\n",
            "\n",
            "credit_count ['1' '2' '5' '0' '3' '7' '4' '6' '?' '8' '10' '9' '12' '11' '14' '15' '13'\n",
            " '16' '19' '17' '18' '21']\n",
            "\n",
            "overdue_credit_count ['1' '0' '?' '2' '3']\n",
            "\n"
          ]
        }
      ]
    },
    {
      "cell_type": "code",
      "metadata": {
        "id": "ElolVtgELaUc"
      },
      "source": [
        "train = train.drop(train[train.credit_count == '?'].index)\n",
        "train = train.drop(train[train.overdue_credit_count == '?'].index)\n",
        "\n",
        "test = test.drop(test[test.credit_count == '?'].index)\n",
        "test = test.drop(test[test.overdue_credit_count == '?'].index)"
      ],
      "execution_count": 103,
      "outputs": []
    },
    {
      "cell_type": "code",
      "metadata": {
        "id": "vibEsmIyM96F",
        "colab": {
          "base_uri": "https://localhost:8080/"
        },
        "outputId": "3fb6672f-95fa-43dd-cee6-561eb7f7acbe"
      },
      "source": [
        "unique_object_values(train)"
      ],
      "execution_count": 10,
      "outputs": [
        {
          "output_type": "stream",
          "name": "stdout",
          "text": [
            "gender ['M' 'F']\n",
            "\n",
            "marital_status ['MAR' 'DIV' 'UNM' 'WID' 'CIV']\n",
            "\n",
            "job_position ['UMN' 'SPC' 'INP' 'DIR' 'ATP' 'PNA' 'BIS' 'WOI' 'NOR' 'WRK' 'WRP' 'PNV'\n",
            " 'BIU' 'PNI' 'HSK' 'PNS' 'INV']\n",
            "\n",
            "tariff_id ['1.6' '1.1' '1.5' '1' '1.32' '1.4' '1.7' '1.3' '1.16' '1.9' '1.23' '1.43'\n",
            " '1.44' '1.19' '1.2' '1.21' '1.22' '1.24' '1.91' '1.41' '1.17' '1.94'\n",
            " '1.25' '1.48' '1.52' '1.18' '1.26' '1.27' '1.28' '1.96' '1.56' '1.29']\n",
            "\n",
            "education ['GRD' 'SCH' 'UGR' 'PGR' 'ACD']\n",
            "\n",
            "credit_count ['1' '2' '5' '0' '3' '7' '4' '6' '8' '10' '9' '12' '11' '14' '15' '13'\n",
            " '16' '19' '17' '18' '21']\n",
            "\n",
            "overdue_credit_count ['1' '0' '2' '3']\n",
            "\n"
          ]
        }
      ]
    },
    {
      "cell_type": "code",
      "metadata": {
        "id": "ahBKLi9XvUTP",
        "colab": {
          "base_uri": "https://localhost:8080/"
        },
        "outputId": "91617111-a5fe-4fef-ae2d-c86c21b253d6"
      },
      "source": [
        "X, y = train.drop('open_account_flg', axis=1), train['open_account_flg']\n",
        "\n",
        "X_train, X_valid, y_train, y_valid = train_test_split(X, y, test_size=0.3, stratify=y)\n",
        "\n",
        "y_train.value_counts()"
      ],
      "execution_count": 11,
      "outputs": [
        {
          "output_type": "execute_result",
          "data": {
            "text/plain": [
              "0    94436\n",
              "1    18625\n",
              "Name: open_account_flg, dtype: int64"
            ]
          },
          "metadata": {},
          "execution_count": 11
        }
      ]
    },
    {
      "cell_type": "code",
      "metadata": {
        "id": "8rRu7GZtP7Ax",
        "colab": {
          "base_uri": "https://localhost:8080/",
          "height": 215
        },
        "outputId": "637077f3-398e-476e-bc3a-66f5c8cbce35"
      },
      "source": [
        "X_train.head()"
      ],
      "execution_count": 12,
      "outputs": [
        {
          "output_type": "execute_result",
          "data": {
            "text/html": [
              "<div>\n",
              "<style scoped>\n",
              "    .dataframe tbody tr th:only-of-type {\n",
              "        vertical-align: middle;\n",
              "    }\n",
              "\n",
              "    .dataframe tbody tr th {\n",
              "        vertical-align: top;\n",
              "    }\n",
              "\n",
              "    .dataframe thead th {\n",
              "        text-align: right;\n",
              "    }\n",
              "</style>\n",
              "<table border=\"1\" class=\"dataframe\">\n",
              "  <thead>\n",
              "    <tr style=\"text-align: right;\">\n",
              "      <th></th>\n",
              "      <th>gender</th>\n",
              "      <th>age</th>\n",
              "      <th>marital_status</th>\n",
              "      <th>job_position</th>\n",
              "      <th>credit_sum</th>\n",
              "      <th>credit_month</th>\n",
              "      <th>tariff_id</th>\n",
              "      <th>score_shk</th>\n",
              "      <th>education</th>\n",
              "      <th>monthly_income</th>\n",
              "      <th>credit_count</th>\n",
              "      <th>overdue_credit_count</th>\n",
              "      <th>living_region_code</th>\n",
              "    </tr>\n",
              "  </thead>\n",
              "  <tbody>\n",
              "    <tr>\n",
              "      <th>39802</th>\n",
              "      <td>M</td>\n",
              "      <td>29</td>\n",
              "      <td>MAR</td>\n",
              "      <td>SPC</td>\n",
              "      <td>38107.0</td>\n",
              "      <td>10</td>\n",
              "      <td>1.91</td>\n",
              "      <td>0.536378</td>\n",
              "      <td>SCH</td>\n",
              "      <td>80000</td>\n",
              "      <td>1</td>\n",
              "      <td>0</td>\n",
              "      <td>14</td>\n",
              "    </tr>\n",
              "    <tr>\n",
              "      <th>128292</th>\n",
              "      <td>F</td>\n",
              "      <td>43</td>\n",
              "      <td>DIV</td>\n",
              "      <td>UMN</td>\n",
              "      <td>27647.0</td>\n",
              "      <td>12</td>\n",
              "      <td>1.43</td>\n",
              "      <td>0.640040</td>\n",
              "      <td>GRD</td>\n",
              "      <td>23000</td>\n",
              "      <td>3</td>\n",
              "      <td>1</td>\n",
              "      <td>23</td>\n",
              "    </tr>\n",
              "    <tr>\n",
              "      <th>117287</th>\n",
              "      <td>F</td>\n",
              "      <td>27</td>\n",
              "      <td>UNM</td>\n",
              "      <td>SPC</td>\n",
              "      <td>16990.0</td>\n",
              "      <td>6</td>\n",
              "      <td>1.5</td>\n",
              "      <td>0.408648</td>\n",
              "      <td>GRD</td>\n",
              "      <td>17000</td>\n",
              "      <td>1</td>\n",
              "      <td>0</td>\n",
              "      <td>3</td>\n",
              "    </tr>\n",
              "    <tr>\n",
              "      <th>122577</th>\n",
              "      <td>F</td>\n",
              "      <td>31</td>\n",
              "      <td>UNM</td>\n",
              "      <td>SPC</td>\n",
              "      <td>35990.0</td>\n",
              "      <td>8</td>\n",
              "      <td>1.4</td>\n",
              "      <td>0.344109</td>\n",
              "      <td>GRD</td>\n",
              "      <td>80000</td>\n",
              "      <td>1</td>\n",
              "      <td>0</td>\n",
              "      <td>77</td>\n",
              "    </tr>\n",
              "    <tr>\n",
              "      <th>93650</th>\n",
              "      <td>F</td>\n",
              "      <td>33</td>\n",
              "      <td>DIV</td>\n",
              "      <td>SPC</td>\n",
              "      <td>10931.0</td>\n",
              "      <td>12</td>\n",
              "      <td>1.6</td>\n",
              "      <td>0.339772</td>\n",
              "      <td>GRD</td>\n",
              "      <td>50000</td>\n",
              "      <td>2</td>\n",
              "      <td>0</td>\n",
              "      <td>50</td>\n",
              "    </tr>\n",
              "  </tbody>\n",
              "</table>\n",
              "</div>"
            ],
            "text/plain": [
              "       gender  age  ... overdue_credit_count living_region_code\n",
              "39802       M   29  ...                    0                 14\n",
              "128292      F   43  ...                    1                 23\n",
              "117287      F   27  ...                    0                  3\n",
              "122577      F   31  ...                    0                 77\n",
              "93650       F   33  ...                    0                 50\n",
              "\n",
              "[5 rows x 13 columns]"
            ]
          },
          "metadata": {},
          "execution_count": 12
        }
      ]
    },
    {
      "cell_type": "code",
      "metadata": {
        "id": "XDGT02hLYzRr",
        "colab": {
          "base_uri": "https://localhost:8080/",
          "height": 280
        },
        "outputId": "18972adc-d351-4e62-c847-05d6525f998e"
      },
      "source": [
        "sns.countplot(X_train['credit_month']);"
      ],
      "execution_count": 13,
      "outputs": [
        {
          "output_type": "display_data",
          "data": {
            "image/png": "[encoded data removed]",
            "text/plain": [
              "<Figure size 432x288 with 1 Axes>"
            ]
          },
          "metadata": {
            "needs_background": "light"
          }
        }
      ]
    },
    {
      "cell_type": "code",
      "metadata": {
        "id": "WKAU8VlIY5Yh",
        "colab": {
          "base_uri": "https://localhost:8080/"
        },
        "outputId": "698e3b89-bdaa-4fc5-f155-8ca552fb963d"
      },
      "source": [
        "X_train.credit_month.value_counts().head()"
      ],
      "execution_count": 14,
      "outputs": [
        {
          "output_type": "execute_result",
          "data": {
            "text/plain": [
              "10    63562\n",
              "12    29685\n",
              "6      6823\n",
              "24     4170\n",
              "18     1970\n",
              "Name: credit_month, dtype: int64"
            ]
          },
          "metadata": {},
          "execution_count": 14
        }
      ]
    },
    {
      "cell_type": "code",
      "metadata": {
        "id": "3C_ZPTxxZwF-",
        "colab": {
          "base_uri": "https://localhost:8080/"
        },
        "outputId": "9ef118d1-3d4f-4140-b6b0-93a6d12160d9"
      },
      "source": [
        "X_train.isna().sum(), X_valid.isna().sum()"
      ],
      "execution_count": 15,
      "outputs": [
        {
          "output_type": "execute_result",
          "data": {
            "text/plain": [
              "(gender                  0\n",
              " age                     0\n",
              " marital_status          0\n",
              " job_position            0\n",
              " credit_sum              0\n",
              " credit_month            0\n",
              " tariff_id               0\n",
              " score_shk               0\n",
              " education               0\n",
              " monthly_income          0\n",
              " credit_count            0\n",
              " overdue_credit_count    0\n",
              " living_region_code      0\n",
              " dtype: int64, gender                  0\n",
              " age                     0\n",
              " marital_status          0\n",
              " job_position            0\n",
              " credit_sum              0\n",
              " credit_month            0\n",
              " tariff_id               0\n",
              " score_shk               0\n",
              " education               0\n",
              " monthly_income          0\n",
              " credit_count            0\n",
              " overdue_credit_count    0\n",
              " living_region_code      0\n",
              " dtype: int64)"
            ]
          },
          "metadata": {},
          "execution_count": 15
        }
      ]
    },
    {
      "cell_type": "code",
      "metadata": {
        "id": "A5k9mLfsaTfU"
      },
      "source": [
        "def month_sum(sum, month):\n",
        "  return sum / month"
      ],
      "execution_count": 16,
      "outputs": []
    },
    {
      "cell_type": "code",
      "metadata": {
        "id": "Bvygc38Lam31"
      },
      "source": [
        "X_train['month_sum'], X_valid['month_sum'] = month_sum(X_train['credit_sum'], X_train.credit_month), month_sum(X_valid['credit_sum'], X_valid.credit_month)"
      ],
      "execution_count": 17,
      "outputs": []
    },
    {
      "cell_type": "code",
      "metadata": {
        "id": "BcwkvGKeax8C",
        "colab": {
          "base_uri": "https://localhost:8080/",
          "height": 215
        },
        "outputId": "3b5f651f-33b4-4ed2-91ec-5eace6358490"
      },
      "source": [
        "X_train.head()"
      ],
      "execution_count": 18,
      "outputs": [
        {
          "output_type": "execute_result",
          "data": {
            "text/html": [
              "<div>\n",
              "<style scoped>\n",
              "    .dataframe tbody tr th:only-of-type {\n",
              "        vertical-align: middle;\n",
              "    }\n",
              "\n",
              "    .dataframe tbody tr th {\n",
              "        vertical-align: top;\n",
              "    }\n",
              "\n",
              "    .dataframe thead th {\n",
              "        text-align: right;\n",
              "    }\n",
              "</style>\n",
              "<table border=\"1\" class=\"dataframe\">\n",
              "  <thead>\n",
              "    <tr style=\"text-align: right;\">\n",
              "      <th></th>\n",
              "      <th>gender</th>\n",
              "      <th>age</th>\n",
              "      <th>marital_status</th>\n",
              "      <th>job_position</th>\n",
              "      <th>credit_sum</th>\n",
              "      <th>credit_month</th>\n",
              "      <th>tariff_id</th>\n",
              "      <th>score_shk</th>\n",
              "      <th>education</th>\n",
              "      <th>monthly_income</th>\n",
              "      <th>credit_count</th>\n",
              "      <th>overdue_credit_count</th>\n",
              "      <th>living_region_code</th>\n",
              "      <th>month_sum</th>\n",
              "    </tr>\n",
              "  </thead>\n",
              "  <tbody>\n",
              "    <tr>\n",
              "      <th>39802</th>\n",
              "      <td>M</td>\n",
              "      <td>29</td>\n",
              "      <td>MAR</td>\n",
              "      <td>SPC</td>\n",
              "      <td>38107.0</td>\n",
              "      <td>10</td>\n",
              "      <td>1.91</td>\n",
              "      <td>0.536378</td>\n",
              "      <td>SCH</td>\n",
              "      <td>80000</td>\n",
              "      <td>1</td>\n",
              "      <td>0</td>\n",
              "      <td>14</td>\n",
              "      <td>3810.700000</td>\n",
              "    </tr>\n",
              "    <tr>\n",
              "      <th>128292</th>\n",
              "      <td>F</td>\n",
              "      <td>43</td>\n",
              "      <td>DIV</td>\n",
              "      <td>UMN</td>\n",
              "      <td>27647.0</td>\n",
              "      <td>12</td>\n",
              "      <td>1.43</td>\n",
              "      <td>0.640040</td>\n",
              "      <td>GRD</td>\n",
              "      <td>23000</td>\n",
              "      <td>3</td>\n",
              "      <td>1</td>\n",
              "      <td>23</td>\n",
              "      <td>2303.916667</td>\n",
              "    </tr>\n",
              "    <tr>\n",
              "      <th>117287</th>\n",
              "      <td>F</td>\n",
              "      <td>27</td>\n",
              "      <td>UNM</td>\n",
              "      <td>SPC</td>\n",
              "      <td>16990.0</td>\n",
              "      <td>6</td>\n",
              "      <td>1.5</td>\n",
              "      <td>0.408648</td>\n",
              "      <td>GRD</td>\n",
              "      <td>17000</td>\n",
              "      <td>1</td>\n",
              "      <td>0</td>\n",
              "      <td>3</td>\n",
              "      <td>2831.666667</td>\n",
              "    </tr>\n",
              "    <tr>\n",
              "      <th>122577</th>\n",
              "      <td>F</td>\n",
              "      <td>31</td>\n",
              "      <td>UNM</td>\n",
              "      <td>SPC</td>\n",
              "      <td>35990.0</td>\n",
              "      <td>8</td>\n",
              "      <td>1.4</td>\n",
              "      <td>0.344109</td>\n",
              "      <td>GRD</td>\n",
              "      <td>80000</td>\n",
              "      <td>1</td>\n",
              "      <td>0</td>\n",
              "      <td>77</td>\n",
              "      <td>4498.750000</td>\n",
              "    </tr>\n",
              "    <tr>\n",
              "      <th>93650</th>\n",
              "      <td>F</td>\n",
              "      <td>33</td>\n",
              "      <td>DIV</td>\n",
              "      <td>SPC</td>\n",
              "      <td>10931.0</td>\n",
              "      <td>12</td>\n",
              "      <td>1.6</td>\n",
              "      <td>0.339772</td>\n",
              "      <td>GRD</td>\n",
              "      <td>50000</td>\n",
              "      <td>2</td>\n",
              "      <td>0</td>\n",
              "      <td>50</td>\n",
              "      <td>910.916667</td>\n",
              "    </tr>\n",
              "  </tbody>\n",
              "</table>\n",
              "</div>"
            ],
            "text/plain": [
              "       gender  age  ... living_region_code    month_sum\n",
              "39802       M   29  ...                 14  3810.700000\n",
              "128292      F   43  ...                 23  2303.916667\n",
              "117287      F   27  ...                  3  2831.666667\n",
              "122577      F   31  ...                 77  4498.750000\n",
              "93650       F   33  ...                 50   910.916667\n",
              "\n",
              "[5 rows x 14 columns]"
            ]
          },
          "metadata": {},
          "execution_count": 18
        }
      ]
    },
    {
      "cell_type": "code",
      "metadata": {
        "id": "6krVc899NZgr",
        "colab": {
          "base_uri": "https://localhost:8080/",
          "height": 215
        },
        "outputId": "3fbde775-f4ac-4179-faea-ad29da50e325"
      },
      "source": [
        "X_valid.head()"
      ],
      "execution_count": 19,
      "outputs": [
        {
          "output_type": "execute_result",
          "data": {
            "text/html": [
              "<div>\n",
              "<style scoped>\n",
              "    .dataframe tbody tr th:only-of-type {\n",
              "        vertical-align: middle;\n",
              "    }\n",
              "\n",
              "    .dataframe tbody tr th {\n",
              "        vertical-align: top;\n",
              "    }\n",
              "\n",
              "    .dataframe thead th {\n",
              "        text-align: right;\n",
              "    }\n",
              "</style>\n",
              "<table border=\"1\" class=\"dataframe\">\n",
              "  <thead>\n",
              "    <tr style=\"text-align: right;\">\n",
              "      <th></th>\n",
              "      <th>gender</th>\n",
              "      <th>age</th>\n",
              "      <th>marital_status</th>\n",
              "      <th>job_position</th>\n",
              "      <th>credit_sum</th>\n",
              "      <th>credit_month</th>\n",
              "      <th>tariff_id</th>\n",
              "      <th>score_shk</th>\n",
              "      <th>education</th>\n",
              "      <th>monthly_income</th>\n",
              "      <th>credit_count</th>\n",
              "      <th>overdue_credit_count</th>\n",
              "      <th>living_region_code</th>\n",
              "      <th>month_sum</th>\n",
              "    </tr>\n",
              "  </thead>\n",
              "  <tbody>\n",
              "    <tr>\n",
              "      <th>13699</th>\n",
              "      <td>M</td>\n",
              "      <td>27</td>\n",
              "      <td>UNM</td>\n",
              "      <td>SPC</td>\n",
              "      <td>23829.0</td>\n",
              "      <td>10</td>\n",
              "      <td>1.5</td>\n",
              "      <td>0.549970</td>\n",
              "      <td>UGR</td>\n",
              "      <td>30000</td>\n",
              "      <td>3</td>\n",
              "      <td>0</td>\n",
              "      <td>2</td>\n",
              "      <td>2382.90</td>\n",
              "    </tr>\n",
              "    <tr>\n",
              "      <th>80820</th>\n",
              "      <td>F</td>\n",
              "      <td>31</td>\n",
              "      <td>MAR</td>\n",
              "      <td>SPC</td>\n",
              "      <td>42488.0</td>\n",
              "      <td>10</td>\n",
              "      <td>1.1</td>\n",
              "      <td>0.442968</td>\n",
              "      <td>GRD</td>\n",
              "      <td>30000</td>\n",
              "      <td>2</td>\n",
              "      <td>0</td>\n",
              "      <td>63</td>\n",
              "      <td>4248.80</td>\n",
              "    </tr>\n",
              "    <tr>\n",
              "      <th>62634</th>\n",
              "      <td>M</td>\n",
              "      <td>23</td>\n",
              "      <td>UNM</td>\n",
              "      <td>UMN</td>\n",
              "      <td>53189.0</td>\n",
              "      <td>10</td>\n",
              "      <td>1.6</td>\n",
              "      <td>0.515253</td>\n",
              "      <td>SCH</td>\n",
              "      <td>37000</td>\n",
              "      <td>1</td>\n",
              "      <td>0</td>\n",
              "      <td>78</td>\n",
              "      <td>5318.90</td>\n",
              "    </tr>\n",
              "    <tr>\n",
              "      <th>124305</th>\n",
              "      <td>F</td>\n",
              "      <td>34</td>\n",
              "      <td>UNM</td>\n",
              "      <td>SPC</td>\n",
              "      <td>57789.0</td>\n",
              "      <td>10</td>\n",
              "      <td>1.6</td>\n",
              "      <td>0.634904</td>\n",
              "      <td>SCH</td>\n",
              "      <td>73000</td>\n",
              "      <td>1</td>\n",
              "      <td>0</td>\n",
              "      <td>77</td>\n",
              "      <td>5778.90</td>\n",
              "    </tr>\n",
              "    <tr>\n",
              "      <th>144822</th>\n",
              "      <td>F</td>\n",
              "      <td>26</td>\n",
              "      <td>UNM</td>\n",
              "      <td>SPC</td>\n",
              "      <td>15879.0</td>\n",
              "      <td>12</td>\n",
              "      <td>1.1</td>\n",
              "      <td>0.376085</td>\n",
              "      <td>GRD</td>\n",
              "      <td>40000</td>\n",
              "      <td>1</td>\n",
              "      <td>0</td>\n",
              "      <td>46</td>\n",
              "      <td>1323.25</td>\n",
              "    </tr>\n",
              "  </tbody>\n",
              "</table>\n",
              "</div>"
            ],
            "text/plain": [
              "       gender  age  ... living_region_code month_sum\n",
              "13699       M   27  ...                  2   2382.90\n",
              "80820       F   31  ...                 63   4248.80\n",
              "62634       M   23  ...                 78   5318.90\n",
              "124305      F   34  ...                 77   5778.90\n",
              "144822      F   26  ...                 46   1323.25\n",
              "\n",
              "[5 rows x 14 columns]"
            ]
          },
          "metadata": {},
          "execution_count": 19
        }
      ]
    },
    {
      "cell_type": "code",
      "metadata": {
        "id": "WICBDLzPazoI"
      },
      "source": [
        "def encoding_categories(data):\n",
        "  encoder = LabelEncoder()\n",
        "  categories = data.select_dtypes('object')\n",
        "  for category in categories:\n",
        "    data[category] = encoder.fit_transform(data[category])\n",
        "  return data"
      ],
      "execution_count": 20,
      "outputs": []
    },
    {
      "cell_type": "code",
      "metadata": {
        "id": "-y95baUGc4vs",
        "colab": {
          "base_uri": "https://localhost:8080/",
          "height": 215
        },
        "outputId": "8a80207b-73c0-4666-d853-65b80ff3ae28"
      },
      "source": [
        "encoding_categories(X_train).head()"
      ],
      "execution_count": 21,
      "outputs": [
        {
          "output_type": "execute_result",
          "data": {
            "text/html": [
              "<div>\n",
              "<style scoped>\n",
              "    .dataframe tbody tr th:only-of-type {\n",
              "        vertical-align: middle;\n",
              "    }\n",
              "\n",
              "    .dataframe tbody tr th {\n",
              "        vertical-align: top;\n",
              "    }\n",
              "\n",
              "    .dataframe thead th {\n",
              "        text-align: right;\n",
              "    }\n",
              "</style>\n",
              "<table border=\"1\" class=\"dataframe\">\n",
              "  <thead>\n",
              "    <tr style=\"text-align: right;\">\n",
              "      <th></th>\n",
              "      <th>gender</th>\n",
              "      <th>age</th>\n",
              "      <th>marital_status</th>\n",
              "      <th>job_position</th>\n",
              "      <th>credit_sum</th>\n",
              "      <th>credit_month</th>\n",
              "      <th>tariff_id</th>\n",
              "      <th>score_shk</th>\n",
              "      <th>education</th>\n",
              "      <th>monthly_income</th>\n",
              "      <th>credit_count</th>\n",
              "      <th>overdue_credit_count</th>\n",
              "      <th>living_region_code</th>\n",
              "      <th>month_sum</th>\n",
              "    </tr>\n",
              "  </thead>\n",
              "  <tbody>\n",
              "    <tr>\n",
              "      <th>39802</th>\n",
              "      <td>1</td>\n",
              "      <td>29</td>\n",
              "      <td>2</td>\n",
              "      <td>12</td>\n",
              "      <td>38107.0</td>\n",
              "      <td>10</td>\n",
              "      <td>29</td>\n",
              "      <td>0.536378</td>\n",
              "      <td>3</td>\n",
              "      <td>80000</td>\n",
              "      <td>1</td>\n",
              "      <td>0</td>\n",
              "      <td>14</td>\n",
              "      <td>3810.700000</td>\n",
              "    </tr>\n",
              "    <tr>\n",
              "      <th>128292</th>\n",
              "      <td>0</td>\n",
              "      <td>43</td>\n",
              "      <td>1</td>\n",
              "      <td>13</td>\n",
              "      <td>27647.0</td>\n",
              "      <td>12</td>\n",
              "      <td>20</td>\n",
              "      <td>0.640040</td>\n",
              "      <td>1</td>\n",
              "      <td>23000</td>\n",
              "      <td>14</td>\n",
              "      <td>1</td>\n",
              "      <td>23</td>\n",
              "      <td>2303.916667</td>\n",
              "    </tr>\n",
              "    <tr>\n",
              "      <th>117287</th>\n",
              "      <td>0</td>\n",
              "      <td>27</td>\n",
              "      <td>3</td>\n",
              "      <td>12</td>\n",
              "      <td>16990.0</td>\n",
              "      <td>6</td>\n",
              "      <td>23</td>\n",
              "      <td>0.408648</td>\n",
              "      <td>1</td>\n",
              "      <td>17000</td>\n",
              "      <td>1</td>\n",
              "      <td>0</td>\n",
              "      <td>3</td>\n",
              "      <td>2831.666667</td>\n",
              "    </tr>\n",
              "    <tr>\n",
              "      <th>122577</th>\n",
              "      <td>0</td>\n",
              "      <td>31</td>\n",
              "      <td>3</td>\n",
              "      <td>12</td>\n",
              "      <td>35990.0</td>\n",
              "      <td>8</td>\n",
              "      <td>18</td>\n",
              "      <td>0.344109</td>\n",
              "      <td>1</td>\n",
              "      <td>80000</td>\n",
              "      <td>1</td>\n",
              "      <td>0</td>\n",
              "      <td>77</td>\n",
              "      <td>4498.750000</td>\n",
              "    </tr>\n",
              "    <tr>\n",
              "      <th>93650</th>\n",
              "      <td>0</td>\n",
              "      <td>33</td>\n",
              "      <td>1</td>\n",
              "      <td>12</td>\n",
              "      <td>10931.0</td>\n",
              "      <td>12</td>\n",
              "      <td>26</td>\n",
              "      <td>0.339772</td>\n",
              "      <td>1</td>\n",
              "      <td>50000</td>\n",
              "      <td>12</td>\n",
              "      <td>0</td>\n",
              "      <td>50</td>\n",
              "      <td>910.916667</td>\n",
              "    </tr>\n",
              "  </tbody>\n",
              "</table>\n",
              "</div>"
            ],
            "text/plain": [
              "        gender  age  ...  living_region_code    month_sum\n",
              "39802        1   29  ...                  14  3810.700000\n",
              "128292       0   43  ...                  23  2303.916667\n",
              "117287       0   27  ...                   3  2831.666667\n",
              "122577       0   31  ...                  77  4498.750000\n",
              "93650        0   33  ...                  50   910.916667\n",
              "\n",
              "[5 rows x 14 columns]"
            ]
          },
          "metadata": {},
          "execution_count": 21
        }
      ]
    },
    {
      "cell_type": "code",
      "metadata": {
        "id": "lZcyD513NdFi",
        "colab": {
          "base_uri": "https://localhost:8080/",
          "height": 215
        },
        "outputId": "633d926a-8497-4d92-a4aa-a008fa80a956"
      },
      "source": [
        "encoding_categories(X_valid).head()"
      ],
      "execution_count": 22,
      "outputs": [
        {
          "output_type": "execute_result",
          "data": {
            "text/html": [
              "<div>\n",
              "<style scoped>\n",
              "    .dataframe tbody tr th:only-of-type {\n",
              "        vertical-align: middle;\n",
              "    }\n",
              "\n",
              "    .dataframe tbody tr th {\n",
              "        vertical-align: top;\n",
              "    }\n",
              "\n",
              "    .dataframe thead th {\n",
              "        text-align: right;\n",
              "    }\n",
              "</style>\n",
              "<table border=\"1\" class=\"dataframe\">\n",
              "  <thead>\n",
              "    <tr style=\"text-align: right;\">\n",
              "      <th></th>\n",
              "      <th>gender</th>\n",
              "      <th>age</th>\n",
              "      <th>marital_status</th>\n",
              "      <th>job_position</th>\n",
              "      <th>credit_sum</th>\n",
              "      <th>credit_month</th>\n",
              "      <th>tariff_id</th>\n",
              "      <th>score_shk</th>\n",
              "      <th>education</th>\n",
              "      <th>monthly_income</th>\n",
              "      <th>credit_count</th>\n",
              "      <th>overdue_credit_count</th>\n",
              "      <th>living_region_code</th>\n",
              "      <th>month_sum</th>\n",
              "    </tr>\n",
              "  </thead>\n",
              "  <tbody>\n",
              "    <tr>\n",
              "      <th>13699</th>\n",
              "      <td>1</td>\n",
              "      <td>27</td>\n",
              "      <td>3</td>\n",
              "      <td>12</td>\n",
              "      <td>23829.0</td>\n",
              "      <td>10</td>\n",
              "      <td>21</td>\n",
              "      <td>0.549970</td>\n",
              "      <td>4</td>\n",
              "      <td>30000</td>\n",
              "      <td>11</td>\n",
              "      <td>0</td>\n",
              "      <td>2</td>\n",
              "      <td>2382.90</td>\n",
              "    </tr>\n",
              "    <tr>\n",
              "      <th>80820</th>\n",
              "      <td>0</td>\n",
              "      <td>31</td>\n",
              "      <td>2</td>\n",
              "      <td>12</td>\n",
              "      <td>42488.0</td>\n",
              "      <td>10</td>\n",
              "      <td>1</td>\n",
              "      <td>0.442968</td>\n",
              "      <td>1</td>\n",
              "      <td>30000</td>\n",
              "      <td>10</td>\n",
              "      <td>0</td>\n",
              "      <td>63</td>\n",
              "      <td>4248.80</td>\n",
              "    </tr>\n",
              "    <tr>\n",
              "      <th>62634</th>\n",
              "      <td>1</td>\n",
              "      <td>23</td>\n",
              "      <td>3</td>\n",
              "      <td>13</td>\n",
              "      <td>53189.0</td>\n",
              "      <td>10</td>\n",
              "      <td>23</td>\n",
              "      <td>0.515253</td>\n",
              "      <td>3</td>\n",
              "      <td>37000</td>\n",
              "      <td>1</td>\n",
              "      <td>0</td>\n",
              "      <td>78</td>\n",
              "      <td>5318.90</td>\n",
              "    </tr>\n",
              "    <tr>\n",
              "      <th>124305</th>\n",
              "      <td>0</td>\n",
              "      <td>34</td>\n",
              "      <td>3</td>\n",
              "      <td>12</td>\n",
              "      <td>57789.0</td>\n",
              "      <td>10</td>\n",
              "      <td>23</td>\n",
              "      <td>0.634904</td>\n",
              "      <td>3</td>\n",
              "      <td>73000</td>\n",
              "      <td>1</td>\n",
              "      <td>0</td>\n",
              "      <td>77</td>\n",
              "      <td>5778.90</td>\n",
              "    </tr>\n",
              "    <tr>\n",
              "      <th>144822</th>\n",
              "      <td>0</td>\n",
              "      <td>26</td>\n",
              "      <td>3</td>\n",
              "      <td>12</td>\n",
              "      <td>15879.0</td>\n",
              "      <td>12</td>\n",
              "      <td>1</td>\n",
              "      <td>0.376085</td>\n",
              "      <td>1</td>\n",
              "      <td>40000</td>\n",
              "      <td>1</td>\n",
              "      <td>0</td>\n",
              "      <td>46</td>\n",
              "      <td>1323.25</td>\n",
              "    </tr>\n",
              "  </tbody>\n",
              "</table>\n",
              "</div>"
            ],
            "text/plain": [
              "        gender  age  ...  living_region_code  month_sum\n",
              "13699        1   27  ...                   2    2382.90\n",
              "80820        0   31  ...                  63    4248.80\n",
              "62634        1   23  ...                  78    5318.90\n",
              "124305       0   34  ...                  77    5778.90\n",
              "144822       0   26  ...                  46    1323.25\n",
              "\n",
              "[5 rows x 14 columns]"
            ]
          },
          "metadata": {},
          "execution_count": 22
        }
      ]
    },
    {
      "cell_type": "code",
      "metadata": {
        "id": "LIuAx2qWc62j",
        "colab": {
          "base_uri": "https://localhost:8080/"
        },
        "outputId": "965692ac-b020-45da-cb27-25625bc0e167"
      },
      "source": [
        "pearsonr(X_train.overdue_credit_count, y_train)"
      ],
      "execution_count": 23,
      "outputs": [
        {
          "output_type": "execute_result",
          "data": {
            "text/plain": [
              "(0.02548058555526965, 1.0436281507292658e-17)"
            ]
          },
          "metadata": {},
          "execution_count": 23
        }
      ]
    },
    {
      "cell_type": "code",
      "metadata": {
        "id": "dKw5rLmfD6g3",
        "colab": {
          "base_uri": "https://localhost:8080/"
        },
        "outputId": "311d341c-ccfa-4d07-8c4b-f0c3b77046fc"
      },
      "source": [
        "X_train.drop('overdue_credit_count', axis=1, inplace=True), X_valid.drop('overdue_credit_count', axis=1, inplace=True)"
      ],
      "execution_count": 24,
      "outputs": [
        {
          "output_type": "execute_result",
          "data": {
            "text/plain": [
              "(None, None)"
            ]
          },
          "metadata": {},
          "execution_count": 24
        }
      ]
    },
    {
      "cell_type": "code",
      "metadata": {
        "id": "41JxarSkdzmW",
        "colab": {
          "base_uri": "https://localhost:8080/",
          "height": 352
        },
        "outputId": "f6325e01-28e7-4d4b-b3fa-c57af13eabf5"
      },
      "source": [
        "sns.heatmap(X_train.corr());"
      ],
      "execution_count": 25,
      "outputs": [
        {
          "output_type": "display_data",
          "data": {
            "image/png": "[encoded data removed]",
            "text/plain": [
              "<Figure size 432x288 with 2 Axes>"
            ]
          },
          "metadata": {
            "needs_background": "light"
          }
        }
      ]
    },
    {
      "cell_type": "markdown",
      "metadata": {
        "id": "xiisct6Vzgsc"
      },
      "source": [
        "<font size=7 color='Red'> 2.Construction of models."
      ]
    },
    {
      "cell_type": "code",
      "metadata": {
        "id": "an8Br95-AGYG"
      },
      "source": [
        "scaler = StandardScaler()"
      ],
      "execution_count": 26,
      "outputs": []
    },
    {
      "cell_type": "code",
      "metadata": {
        "id": "wmmf7LkE7DSl"
      },
      "source": [
        "X_train.loc[:, ['age', 'credit_sum', 'tariff_id', 'score_shk', 'month_sum', 'monthly_income']], X_valid.loc[:,['age', 'credit_sum', 'tariff_id', 'score_shk', 'month_sum', 'monthly_income']] = scaler.fit_transform(X_train.loc[:, ['age', 'credit_sum', 'tariff_id', 'score_shk', 'month_sum', 'monthly_income']]), scaler.transform(X_valid.loc[:, ['age', 'credit_sum', 'tariff_id', 'score_shk', 'month_sum', 'monthly_income']])"
      ],
      "execution_count": 27,
      "outputs": []
    },
    {
      "cell_type": "code",
      "metadata": {
        "id": "AAX3mtSMeB5w",
        "colab": {
          "base_uri": "https://localhost:8080/"
        },
        "outputId": "5c419f54-29a6-43d3-acf8-d752bc8692b9"
      },
      "source": [
        "params_lr = {'C' : [0.0001, 0.001, 0.01, 0.1, 1]}\n",
        "\n",
        "lr = LogisticRegression(random_state=17)\n",
        "\n",
        "lr_best = GridSearchCV(lr, params_lr, scoring='roc_auc', verbose=True, n_jobs=-1, cv=5).fit(X_train, y_train).best_estimator_"
      ],
      "execution_count": 28,
      "outputs": [
        {
          "output_type": "stream",
          "name": "stdout",
          "text": [
            "Fitting 5 folds for each of 5 candidates, totalling 25 fits\n"
          ]
        },
        {
          "output_type": "stream",
          "name": "stderr",
          "text": [
            "[Parallel(n_jobs=-1)]: Using backend LokyBackend with 2 concurrent workers.\n",
            "[Parallel(n_jobs=-1)]: Done  25 out of  25 | elapsed:   22.9s finished\n"
          ]
        }
      ]
    },
    {
      "cell_type": "code",
      "metadata": {
        "id": "HZu8SgYBGsaL",
        "colab": {
          "base_uri": "https://localhost:8080/"
        },
        "outputId": "7585f1f9-fb12-4295-9a28-d0431d6242c6"
      },
      "source": [
        "print(classification_report(y_valid, lr_best.predict(X_valid)))"
      ],
      "execution_count": 29,
      "outputs": [
        {
          "output_type": "stream",
          "name": "stdout",
          "text": [
            "              precision    recall  f1-score   support\n",
            "\n",
            "           0       0.84      1.00      0.91     40473\n",
            "           1       0.00      0.00      0.00      7982\n",
            "\n",
            "    accuracy                           0.84     48455\n",
            "   macro avg       0.42      0.50      0.46     48455\n",
            "weighted avg       0.70      0.84      0.76     48455\n",
            "\n"
          ]
        }
      ]
    },
    {
      "cell_type": "code",
      "metadata": {
        "id": "AIKg6b0GOPbI",
        "colab": {
          "base_uri": "https://localhost:8080/",
          "height": 279
        },
        "outputId": "0e491af5-a1d3-4d63-9a6c-e89e8b020eb6"
      },
      "source": [
        "plot_roc_curve(lr_best, X_valid, y_valid);"
      ],
      "execution_count": 30,
      "outputs": [
        {
          "output_type": "display_data",
          "data": {
            "image/png": "[encoded data removed]",
            "text/plain": [
              "<Figure size 432x288 with 1 Axes>"
            ]
          },
          "metadata": {
            "needs_background": "light"
          }
        }
      ]
    },
    {
      "cell_type": "code",
      "metadata": {
        "id": "UCVyMLMUOjn9",
        "colab": {
          "base_uri": "https://localhost:8080/"
        },
        "outputId": "26f47b6e-3da9-4f6a-fd33-359ffded993e"
      },
      "source": [
        "sgd = SGDClassifier()\n",
        "\n",
        "sgd_params = {'alpha' : [0.00001, 0.0001, 0.001, 0.01, 0.1],\n",
        "              'max_iter' : [10, 15, 25, 50]}\n",
        "\n",
        "best_sgd = GridSearchCV(sgd, param_grid=sgd_params, scoring='roc_auc', verbose=1, n_jobs=-1, cv=5).fit(X_train, y_train).best_estimator_\n",
        "\n",
        "print(classification_report(y_valid, best_sgd.predict(X_valid)))"
      ],
      "execution_count": 31,
      "outputs": [
        {
          "output_type": "stream",
          "name": "stdout",
          "text": [
            "Fitting 5 folds for each of 20 candidates, totalling 100 fits\n"
          ]
        },
        {
          "output_type": "stream",
          "name": "stderr",
          "text": [
            "[Parallel(n_jobs=-1)]: Using backend LokyBackend with 2 concurrent workers.\n",
            "[Parallel(n_jobs=-1)]: Done  46 tasks      | elapsed:    8.7s\n",
            "[Parallel(n_jobs=-1)]: Done 100 out of 100 | elapsed:   18.7s finished\n"
          ]
        },
        {
          "output_type": "stream",
          "name": "stdout",
          "text": [
            "              precision    recall  f1-score   support\n",
            "\n",
            "           0       0.84      1.00      0.91     40473\n",
            "           1       0.00      0.00      0.00      7982\n",
            "\n",
            "    accuracy                           0.84     48455\n",
            "   macro avg       0.42      0.50      0.46     48455\n",
            "weighted avg       0.70      0.84      0.76     48455\n",
            "\n"
          ]
        }
      ]
    },
    {
      "cell_type": "code",
      "metadata": {
        "id": "tk8USW0JQz9U",
        "colab": {
          "base_uri": "https://localhost:8080/",
          "height": 279
        },
        "outputId": "a0f492a2-5e10-4de6-8169-d73e93e13afe"
      },
      "source": [
        "plot_roc_curve(best_sgd, X_valid, y_valid);"
      ],
      "execution_count": 32,
      "outputs": [
        {
          "output_type": "display_data",
          "data": {
            "image/png": "[encoded data removed]",
            "text/plain": [
              "<Figure size 432x288 with 1 Axes>"
            ]
          },
          "metadata": {
            "needs_background": "light"
          }
        }
      ]
    },
    {
      "cell_type": "code",
      "metadata": {
        "id": "z7oh7iyHQ7qt",
        "colab": {
          "base_uri": "https://localhost:8080/"
        },
        "outputId": "72e2d6fe-f7ca-4e16-af8c-2d5353940d5a"
      },
      "source": [
        "rf = RandomForestClassifier()\n",
        "\n",
        "params_rf = {'n_estimators' : [100, 150],\n",
        "             'max_depth' : [5, 10, 15, 20, 30]}\n",
        "\n",
        "best_rf = GridSearchCV(rf, params_rf, scoring='roc_auc', verbose=1, n_jobs=-1, cv=5).fit(X_train, y_train).best_estimator_"
      ],
      "execution_count": 33,
      "outputs": [
        {
          "output_type": "stream",
          "name": "stdout",
          "text": [
            "Fitting 5 folds for each of 10 candidates, totalling 50 fits\n"
          ]
        },
        {
          "output_type": "stream",
          "name": "stderr",
          "text": [
            "[Parallel(n_jobs=-1)]: Using backend LokyBackend with 2 concurrent workers.\n",
            "[Parallel(n_jobs=-1)]: Done  46 tasks      | elapsed:  8.6min\n",
            "[Parallel(n_jobs=-1)]: Done  50 out of  50 | elapsed:  9.8min finished\n"
          ]
        }
      ]
    },
    {
      "cell_type": "code",
      "metadata": {
        "id": "_X_Tv4jldZdZ",
        "colab": {
          "base_uri": "https://localhost:8080/"
        },
        "outputId": "aeb07562-98b0-4415-eddd-1b3c14052607"
      },
      "source": [
        "print(classification_report(y_valid, best_rf.predict(X_valid)))"
      ],
      "execution_count": 34,
      "outputs": [
        {
          "output_type": "stream",
          "name": "stdout",
          "text": [
            "              precision    recall  f1-score   support\n",
            "\n",
            "           0       0.84      0.99      0.91     40473\n",
            "           1       0.40      0.02      0.04      7982\n",
            "\n",
            "    accuracy                           0.83     48455\n",
            "   macro avg       0.62      0.51      0.47     48455\n",
            "weighted avg       0.77      0.83      0.77     48455\n",
            "\n"
          ]
        }
      ]
    },
    {
      "cell_type": "code",
      "metadata": {
        "id": "-71Redjvg5I6",
        "colab": {
          "base_uri": "https://localhost:8080/",
          "height": 279
        },
        "outputId": "a45463f6-2397-448f-e3fb-8d9fa5dd23f3"
      },
      "source": [
        "plot_roc_curve(best_rf, X_valid, y_valid);"
      ],
      "execution_count": 35,
      "outputs": [
        {
          "output_type": "display_data",
          "data": {
            "image/png": "[encoded data removed]",
            "text/plain": [
              "<Figure size 432x288 with 1 Axes>"
            ]
          },
          "metadata": {
            "needs_background": "light"
          }
        }
      ]
    },
    {
      "cell_type": "code",
      "metadata": {
        "id": "QObO8fyN8TMw",
        "colab": {
          "base_uri": "https://localhost:8080/"
        },
        "outputId": "0a85ea75-5271-4353-86cd-c47eaedcd119"
      },
      "source": [
        "tree = DecisionTreeClassifier()\n",
        "\n",
        "params_tree = {'max_depth' : [5, 10, 15],\n",
        "               'min_samples_split' : [5, 10, 20, 50]}\n",
        "\n",
        "best_tree = GridSearchCV(tree, params_tree, cv=5, n_jobs=-1, verbose=1, scoring='roc_auc').fit(X_train, y_train).best_estimator_\n",
        "\n",
        "print(classification_report(y_valid, best_tree.predict(X_valid)))"
      ],
      "execution_count": 36,
      "outputs": [
        {
          "output_type": "stream",
          "name": "stdout",
          "text": [
            "Fitting 5 folds for each of 12 candidates, totalling 60 fits\n"
          ]
        },
        {
          "output_type": "stream",
          "name": "stderr",
          "text": [
            "[Parallel(n_jobs=-1)]: Using backend LokyBackend with 2 concurrent workers.\n",
            "[Parallel(n_jobs=-1)]: Done  46 tasks      | elapsed:   15.5s\n",
            "[Parallel(n_jobs=-1)]: Done  60 out of  60 | elapsed:   23.1s finished\n"
          ]
        },
        {
          "output_type": "stream",
          "name": "stdout",
          "text": [
            "              precision    recall  f1-score   support\n",
            "\n",
            "           0       0.84      0.97      0.90     40473\n",
            "           1       0.32      0.07      0.11      7982\n",
            "\n",
            "    accuracy                           0.82     48455\n",
            "   macro avg       0.58      0.52      0.51     48455\n",
            "weighted avg       0.76      0.82      0.77     48455\n",
            "\n"
          ]
        }
      ]
    },
    {
      "cell_type": "code",
      "metadata": {
        "id": "Ioo09S329Uwp",
        "colab": {
          "base_uri": "https://localhost:8080/",
          "height": 279
        },
        "outputId": "e1050ae1-aa7b-4fe9-e40b-e2bb00e0b71f"
      },
      "source": [
        "plot_roc_curve(best_tree, X_valid, y_valid);"
      ],
      "execution_count": 37,
      "outputs": [
        {
          "output_type": "display_data",
          "data": {
            "image/png": "[encoded data removed]",
            "text/plain": [
              "<Figure size 432x288 with 1 Axes>"
            ]
          },
          "metadata": {
            "needs_background": "light"
          }
        }
      ]
    },
    {
      "cell_type": "code",
      "metadata": {
        "id": "Fr7a6k6Rg-mC",
        "colab": {
          "base_uri": "https://localhost:8080/"
        },
        "outputId": "3a97d566-ba66-4503-cdc3-1f9f4bfaadf7"
      },
      "source": [
        "bag = BaggingClassifier()\n",
        "\n",
        "params_bag = {'base_estimator' : [lr_best, best_tree, best_sgd],\n",
        "              'n_estimators' : [10, 25, 50, 100]}\n",
        "\n",
        "best_bag = GridSearchCV(bag, params_bag, cv=5, n_jobs=-1, verbose=1, scoring='roc_auc').fit(X_train, y_train).best_estimator_\n",
        "\n",
        "print(classification_report(y_valid, best_bag.predict(X_valid)))"
      ],
      "execution_count": 38,
      "outputs": [
        {
          "output_type": "stream",
          "name": "stdout",
          "text": [
            "Fitting 5 folds for each of 12 candidates, totalling 60 fits\n"
          ]
        },
        {
          "output_type": "stream",
          "name": "stderr",
          "text": [
            "[Parallel(n_jobs=-1)]: Using backend LokyBackend with 2 concurrent workers.\n",
            "[Parallel(n_jobs=-1)]: Done  46 tasks      | elapsed: 16.2min\n",
            "[Parallel(n_jobs=-1)]: Done  60 out of  60 | elapsed: 20.3min finished\n"
          ]
        },
        {
          "output_type": "stream",
          "name": "stdout",
          "text": [
            "              precision    recall  f1-score   support\n",
            "\n",
            "           0       0.84      0.99      0.91     40473\n",
            "           1       0.29      0.03      0.05      7982\n",
            "\n",
            "    accuracy                           0.83     48455\n",
            "   macro avg       0.56      0.51      0.48     48455\n",
            "weighted avg       0.75      0.83      0.77     48455\n",
            "\n"
          ]
        }
      ]
    },
    {
      "cell_type": "code",
      "metadata": {
        "id": "HkKzrpw--ROq",
        "colab": {
          "base_uri": "https://localhost:8080/",
          "height": 279
        },
        "outputId": "5807c41c-612d-4807-8c29-d4a9c658d302"
      },
      "source": [
        "plot_roc_curve(best_bag, X_valid, y_valid);"
      ],
      "execution_count": 39,
      "outputs": [
        {
          "output_type": "display_data",
          "data": {
            "image/png": "[encoded data removed]",
            "text/plain": [
              "<Figure size 432x288 with 1 Axes>"
            ]
          },
          "metadata": {
            "needs_background": "light"
          }
        }
      ]
    },
    {
      "cell_type": "code",
      "metadata": {
        "id": "n0c0DZd1Fojy",
        "colab": {
          "base_uri": "https://localhost:8080/"
        },
        "outputId": "207252c3-c64d-4102-cd4d-568817d45979"
      },
      "source": [
        "knn = KNeighborsClassifier()\n",
        "\n",
        "params_knn = {'n_neighbors' : np.arange(10),\n",
        "              'metric' : ['euclidean', 'minkowski']}\n",
        "\n",
        "best_knn = GridSearchCV(knn, params_knn, cv=5, verbose=1, n_jobs=-1, scoring='roc_auc').fit(X_train, y_train).best_estimator_\n",
        "\n",
        "print(classification_report(y_valid, best_knn.predict(X_valid)))"
      ],
      "execution_count": 40,
      "outputs": [
        {
          "output_type": "stream",
          "name": "stdout",
          "text": [
            "Fitting 5 folds for each of 20 candidates, totalling 100 fits\n"
          ]
        },
        {
          "output_type": "stream",
          "name": "stderr",
          "text": [
            "[Parallel(n_jobs=-1)]: Using backend LokyBackend with 2 concurrent workers.\n",
            "[Parallel(n_jobs=-1)]: Done  46 tasks      | elapsed:  2.4min\n",
            "[Parallel(n_jobs=-1)]: Done 100 out of 100 | elapsed:  5.1min finished\n"
          ]
        },
        {
          "output_type": "stream",
          "name": "stdout",
          "text": [
            "              precision    recall  f1-score   support\n",
            "\n",
            "           0       0.84      0.98      0.90     40473\n",
            "           1       0.32      0.05      0.08      7982\n",
            "\n",
            "    accuracy                           0.83     48455\n",
            "   macro avg       0.58      0.51      0.49     48455\n",
            "weighted avg       0.75      0.83      0.77     48455\n",
            "\n"
          ]
        }
      ]
    },
    {
      "cell_type": "code",
      "metadata": {
        "id": "NyJ1Zl1Va0GH",
        "colab": {
          "base_uri": "https://localhost:8080/",
          "height": 279
        },
        "outputId": "0061af3a-fc34-465e-d47a-e7bb95fb7608"
      },
      "source": [
        "plot_roc_curve(best_knn, X_valid, y_valid);"
      ],
      "execution_count": 41,
      "outputs": [
        {
          "output_type": "display_data",
          "data": {
            "image/png": "[encoded data removed]",
            "text/plain": [
              "<Figure size 432x288 with 1 Axes>"
            ]
          },
          "metadata": {
            "needs_background": "light"
          }
        }
      ]
    },
    {
      "cell_type": "code",
      "metadata": {
        "id": "dNIhpIrpIgPk",
        "colab": {
          "base_uri": "https://localhost:8080/"
        },
        "outputId": "dc6dfdc8-641b-48a7-a72d-bcbacebbffc3"
      },
      "source": [
        "xgb = xgboost.XGBClassifier()\n",
        "\n",
        "params_xgb = {'max_depth' : [3, 5, 10, 15]}\n",
        "\n",
        "best_xgb = GridSearchCV(xgb, params_xgb, cv=5, verbose=1, n_jobs=-1, scoring='roc_auc').fit(X_train, y_train).best_estimator_\n",
        "\n",
        "print(classification_report(y_valid, best_xgb.predict(X_valid)))"
      ],
      "execution_count": 42,
      "outputs": [
        {
          "output_type": "stream",
          "name": "stdout",
          "text": [
            "Fitting 5 folds for each of 4 candidates, totalling 20 fits\n"
          ]
        },
        {
          "output_type": "stream",
          "name": "stderr",
          "text": [
            "[Parallel(n_jobs=-1)]: Using backend LokyBackend with 2 concurrent workers.\n",
            "[Parallel(n_jobs=-1)]: Done  20 out of  20 | elapsed:  5.0min finished\n"
          ]
        },
        {
          "output_type": "stream",
          "name": "stdout",
          "text": [
            "              precision    recall  f1-score   support\n",
            "\n",
            "           0       0.84      0.98      0.91     40473\n",
            "           1       0.33      0.04      0.07      7982\n",
            "\n",
            "    accuracy                           0.83     48455\n",
            "   macro avg       0.59      0.51      0.49     48455\n",
            "weighted avg       0.76      0.83      0.77     48455\n",
            "\n"
          ]
        }
      ]
    },
    {
      "cell_type": "code",
      "metadata": {
        "id": "_BkJ_oHm2uNA",
        "colab": {
          "base_uri": "https://localhost:8080/",
          "height": 296
        },
        "outputId": "c2bfad1a-380d-4d0a-a161-5d12356a4a0c"
      },
      "source": [
        "plot_roc_curve(best_xgb, X_valid, y_valid)"
      ],
      "execution_count": 43,
      "outputs": [
        {
          "output_type": "execute_result",
          "data": {
            "text/plain": [
              "<sklearn.metrics._plot.roc_curve.RocCurveDisplay at 0x7f1c7bcfe7d0>"
            ]
          },
          "metadata": {},
          "execution_count": 43
        },
        {
          "output_type": "display_data",
          "data": {
            "image/png": "[encoded data removed]",
            "text/plain": [
              "<Figure size 432x288 with 1 Axes>"
            ]
          },
          "metadata": {
            "needs_background": "light"
          }
        }
      ]
    },
    {
      "cell_type": "markdown",
      "metadata": {
        "id": "oc4aCGASy_O3"
      },
      "source": [
        "<font color='Red' size=7> 3.Choosing the best model for prediction."
      ]
    },
    {
      "cell_type": "code",
      "metadata": {
        "id": "JPPqqet5VApI",
        "colab": {
          "base_uri": "https://localhost:8080/"
        },
        "outputId": "123cc2a6-6a73-4a77-93d6-350b141a96a7"
      },
      "source": [
        "best_models = [lr_best, best_sgd, best_knn, best_tree, best_rf, best_bag, best_xgb]\n",
        "\n",
        "MODEL_NAMES = ['LogisticRegression', 'SGD', 'KNN', 'Decision tree', 'Random forest', 'Bagging clsfr', 'XGBoost']\n",
        "\n",
        "scores_dict = {}\n",
        "\n",
        "for i in range(len(best_models)):\n",
        "  print(f'{MODEL_NAMES[i]}, \\tRoc_auc: ' +  str(roc_auc_score(y_valid, best_models[i].predict(X_valid))))\n",
        "  scores_dict[MODEL_NAMES[i]] = roc_auc_score(y_valid, best_models[i].predict(X_valid))"
      ],
      "execution_count": 75,
      "outputs": [
        {
          "output_type": "stream",
          "name": "stdout",
          "text": [
            "LogisticRegression, \tRoc_auc: 0.49998764608504437\n",
            "SGD, \tRoc_auc: 0.5\n",
            "KNN, \tRoc_auc: 0.5133566575619148\n",
            "Decision tree, \tRoc_auc: 0.5202587412491735\n",
            "Random forest, \tRoc_auc: 0.5070443858675101\n",
            "Bagging clsfr, \tRoc_auc: 0.5076435708632417\n",
            "XGBoost, \tRoc_auc: 0.5116084037031335\n"
          ]
        }
      ]
    },
    {
      "cell_type": "code",
      "metadata": {
        "colab": {
          "base_uri": "https://localhost:8080/"
        },
        "id": "d_YCwJY_vfVt",
        "outputId": "f61d24f6-6ceb-4d02-992e-f35d8da0caf7"
      },
      "source": [
        "print(max(scores_dict, key=scores_dict.get))"
      ],
      "execution_count": 76,
      "outputs": [
        {
          "output_type": "stream",
          "name": "stdout",
          "text": [
            "Decision tree\n"
          ]
        }
      ]
    },
    {
      "cell_type": "markdown",
      "metadata": {
        "id": "pDZfB8boy0n_"
      },
      "source": [
        "<font color='Green' size=7> The best model for this task is Decision tree."
      ]
    },
    {
      "cell_type": "markdown",
      "metadata": {
        "id": "maUX78at005Q"
      },
      "source": [
        "<font size=7 color='Red'> 4. Submission"
      ]
    },
    {
      "cell_type": "code",
      "metadata": {
        "colab": {
          "base_uri": "https://localhost:8080/",
          "height": 282
        },
        "id": "mOMR5ysK0uJ5",
        "outputId": "fcdafa4b-a487-449e-9530-4feb29e40b16"
      },
      "source": [
        "test.head()"
      ],
      "execution_count": 104,
      "outputs": [
        {
          "output_type": "execute_result",
          "data": {
            "text/html": [
              "<div>\n",
              "<style scoped>\n",
              "    .dataframe tbody tr th:only-of-type {\n",
              "        vertical-align: middle;\n",
              "    }\n",
              "\n",
              "    .dataframe tbody tr th {\n",
              "        vertical-align: top;\n",
              "    }\n",
              "\n",
              "    .dataframe thead th {\n",
              "        text-align: right;\n",
              "    }\n",
              "</style>\n",
              "<table border=\"1\" class=\"dataframe\">\n",
              "  <thead>\n",
              "    <tr style=\"text-align: right;\">\n",
              "      <th></th>\n",
              "      <th>client_id</th>\n",
              "      <th>gender</th>\n",
              "      <th>age</th>\n",
              "      <th>marital_status</th>\n",
              "      <th>job_position</th>\n",
              "      <th>credit_sum</th>\n",
              "      <th>credit_month</th>\n",
              "      <th>tariff_id</th>\n",
              "      <th>score_shk</th>\n",
              "      <th>education</th>\n",
              "      <th>living_region</th>\n",
              "      <th>monthly_income</th>\n",
              "      <th>credit_count</th>\n",
              "      <th>overdue_credit_count</th>\n",
              "      <th>living_region_code</th>\n",
              "    </tr>\n",
              "  </thead>\n",
              "  <tbody>\n",
              "    <tr>\n",
              "      <th>0</th>\n",
              "      <td>170747</td>\n",
              "      <td>F</td>\n",
              "      <td>48</td>\n",
              "      <td>MAR</td>\n",
              "      <td>UMN</td>\n",
              "      <td>16558.00</td>\n",
              "      <td>10</td>\n",
              "      <td>1.1</td>\n",
              "      <td>0.370409</td>\n",
              "      <td>GRD</td>\n",
              "      <td>ХАКАСИЯ РЕСП</td>\n",
              "      <td>34000</td>\n",
              "      <td>2</td>\n",
              "      <td>0</td>\n",
              "      <td>19</td>\n",
              "    </tr>\n",
              "    <tr>\n",
              "      <th>1</th>\n",
              "      <td>170748</td>\n",
              "      <td>M</td>\n",
              "      <td>29</td>\n",
              "      <td>MAR</td>\n",
              "      <td>SPC</td>\n",
              "      <td>7028.72</td>\n",
              "      <td>6</td>\n",
              "      <td>1.4</td>\n",
              "      <td>0.377281</td>\n",
              "      <td>SCH</td>\n",
              "      <td>ОБЛ КЕМЕРОВСКАЯ</td>\n",
              "      <td>19000</td>\n",
              "      <td>3</td>\n",
              "      <td>0</td>\n",
              "      <td>42</td>\n",
              "    </tr>\n",
              "    <tr>\n",
              "      <th>2</th>\n",
              "      <td>170749</td>\n",
              "      <td>F</td>\n",
              "      <td>20</td>\n",
              "      <td>UNM</td>\n",
              "      <td>SPC</td>\n",
              "      <td>13019.00</td>\n",
              "      <td>10</td>\n",
              "      <td>1.6</td>\n",
              "      <td>0.538515</td>\n",
              "      <td>SCH</td>\n",
              "      <td>ОБЛ БЕЛГОРОДСКАЯ</td>\n",
              "      <td>25000</td>\n",
              "      <td>1</td>\n",
              "      <td>0</td>\n",
              "      <td>31</td>\n",
              "    </tr>\n",
              "    <tr>\n",
              "      <th>3</th>\n",
              "      <td>170750</td>\n",
              "      <td>F</td>\n",
              "      <td>41</td>\n",
              "      <td>MAR</td>\n",
              "      <td>SPC</td>\n",
              "      <td>9379.00</td>\n",
              "      <td>10</td>\n",
              "      <td>1.1</td>\n",
              "      <td>0.482520</td>\n",
              "      <td>GRD</td>\n",
              "      <td>ОБЛ ИРКУТСКАЯ</td>\n",
              "      <td>30000</td>\n",
              "      <td>0</td>\n",
              "      <td>0</td>\n",
              "      <td>38</td>\n",
              "    </tr>\n",
              "    <tr>\n",
              "      <th>4</th>\n",
              "      <td>170751</td>\n",
              "      <td>F</td>\n",
              "      <td>31</td>\n",
              "      <td>MAR</td>\n",
              "      <td>SPC</td>\n",
              "      <td>13990.00</td>\n",
              "      <td>6</td>\n",
              "      <td>1.43</td>\n",
              "      <td>0.485914</td>\n",
              "      <td>GRD</td>\n",
              "      <td>ОБЛ КИРОВСКАЯ</td>\n",
              "      <td>20000</td>\n",
              "      <td>2</td>\n",
              "      <td>0</td>\n",
              "      <td>43</td>\n",
              "    </tr>\n",
              "  </tbody>\n",
              "</table>\n",
              "</div>"
            ],
            "text/plain": [
              "   client_id gender  age  ... credit_count overdue_credit_count  living_region_code\n",
              "0     170747      F   48  ...            2                    0                  19\n",
              "1     170748      M   29  ...            3                    0                  42\n",
              "2     170749      F   20  ...            1                    0                  31\n",
              "3     170750      F   41  ...            0                    0                  38\n",
              "4     170751      F   31  ...            2                    0                  43\n",
              "\n",
              "[5 rows x 15 columns]"
            ]
          },
          "metadata": {},
          "execution_count": 104
        }
      ]
    },
    {
      "cell_type": "code",
      "metadata": {
        "id": "wq2vf7222ruP"
      },
      "source": [
        "client_id = test.client_id"
      ],
      "execution_count": 105,
      "outputs": []
    },
    {
      "cell_type": "code",
      "metadata": {
        "id": "Fhj6osa91_qY"
      },
      "source": [
        "test = test.drop(['living_region', 'overdue_credit_count', 'living_region_code'], axis=1)"
      ],
      "execution_count": 106,
      "outputs": []
    },
    {
      "cell_type": "code",
      "metadata": {
        "id": "2zhdLOZX2Q8H"
      },
      "source": [
        "test['month_sum'] = month_sum(test['credit_sum'],test['credit_month'])"
      ],
      "execution_count": 107,
      "outputs": []
    },
    {
      "cell_type": "code",
      "metadata": {
        "colab": {
          "base_uri": "https://localhost:8080/",
          "height": 422
        },
        "id": "ELGxLnJP2kOT",
        "outputId": "66636261-db11-405c-ac53-7fea5d9370c9"
      },
      "source": [
        "encoding_categories(test)"
      ],
      "execution_count": 108,
      "outputs": [
        {
          "output_type": "execute_result",
          "data": {
            "text/html": [
              "<div>\n",
              "<style scoped>\n",
              "    .dataframe tbody tr th:only-of-type {\n",
              "        vertical-align: middle;\n",
              "    }\n",
              "\n",
              "    .dataframe tbody tr th {\n",
              "        vertical-align: top;\n",
              "    }\n",
              "\n",
              "    .dataframe thead th {\n",
              "        text-align: right;\n",
              "    }\n",
              "</style>\n",
              "<table border=\"1\" class=\"dataframe\">\n",
              "  <thead>\n",
              "    <tr style=\"text-align: right;\">\n",
              "      <th></th>\n",
              "      <th>client_id</th>\n",
              "      <th>gender</th>\n",
              "      <th>age</th>\n",
              "      <th>marital_status</th>\n",
              "      <th>job_position</th>\n",
              "      <th>credit_sum</th>\n",
              "      <th>credit_month</th>\n",
              "      <th>tariff_id</th>\n",
              "      <th>score_shk</th>\n",
              "      <th>education</th>\n",
              "      <th>monthly_income</th>\n",
              "      <th>credit_count</th>\n",
              "      <th>month_sum</th>\n",
              "    </tr>\n",
              "  </thead>\n",
              "  <tbody>\n",
              "    <tr>\n",
              "      <th>0</th>\n",
              "      <td>170747</td>\n",
              "      <td>0</td>\n",
              "      <td>48</td>\n",
              "      <td>2</td>\n",
              "      <td>14</td>\n",
              "      <td>16558.00</td>\n",
              "      <td>10</td>\n",
              "      <td>1</td>\n",
              "      <td>0.370409</td>\n",
              "      <td>1</td>\n",
              "      <td>34000</td>\n",
              "      <td>10</td>\n",
              "      <td>1655.800000</td>\n",
              "    </tr>\n",
              "    <tr>\n",
              "      <th>1</th>\n",
              "      <td>170748</td>\n",
              "      <td>1</td>\n",
              "      <td>29</td>\n",
              "      <td>2</td>\n",
              "      <td>13</td>\n",
              "      <td>7028.72</td>\n",
              "      <td>6</td>\n",
              "      <td>19</td>\n",
              "      <td>0.377281</td>\n",
              "      <td>3</td>\n",
              "      <td>19000</td>\n",
              "      <td>12</td>\n",
              "      <td>1171.453333</td>\n",
              "    </tr>\n",
              "    <tr>\n",
              "      <th>2</th>\n",
              "      <td>170749</td>\n",
              "      <td>0</td>\n",
              "      <td>20</td>\n",
              "      <td>3</td>\n",
              "      <td>13</td>\n",
              "      <td>13019.00</td>\n",
              "      <td>10</td>\n",
              "      <td>26</td>\n",
              "      <td>0.538515</td>\n",
              "      <td>3</td>\n",
              "      <td>25000</td>\n",
              "      <td>1</td>\n",
              "      <td>1301.900000</td>\n",
              "    </tr>\n",
              "    <tr>\n",
              "      <th>3</th>\n",
              "      <td>170750</td>\n",
              "      <td>0</td>\n",
              "      <td>41</td>\n",
              "      <td>2</td>\n",
              "      <td>13</td>\n",
              "      <td>9379.00</td>\n",
              "      <td>10</td>\n",
              "      <td>1</td>\n",
              "      <td>0.482520</td>\n",
              "      <td>1</td>\n",
              "      <td>30000</td>\n",
              "      <td>0</td>\n",
              "      <td>937.900000</td>\n",
              "    </tr>\n",
              "    <tr>\n",
              "      <th>4</th>\n",
              "      <td>170751</td>\n",
              "      <td>0</td>\n",
              "      <td>31</td>\n",
              "      <td>2</td>\n",
              "      <td>13</td>\n",
              "      <td>13990.00</td>\n",
              "      <td>6</td>\n",
              "      <td>21</td>\n",
              "      <td>0.485914</td>\n",
              "      <td>1</td>\n",
              "      <td>20000</td>\n",
              "      <td>10</td>\n",
              "      <td>2331.666667</td>\n",
              "    </tr>\n",
              "    <tr>\n",
              "      <th>...</th>\n",
              "      <td>...</td>\n",
              "      <td>...</td>\n",
              "      <td>...</td>\n",
              "      <td>...</td>\n",
              "      <td>...</td>\n",
              "      <td>...</td>\n",
              "      <td>...</td>\n",
              "      <td>...</td>\n",
              "      <td>...</td>\n",
              "      <td>...</td>\n",
              "      <td>...</td>\n",
              "      <td>...</td>\n",
              "      <td>...</td>\n",
              "    </tr>\n",
              "    <tr>\n",
              "      <th>91934</th>\n",
              "      <td>262681</td>\n",
              "      <td>1</td>\n",
              "      <td>39</td>\n",
              "      <td>2</td>\n",
              "      <td>13</td>\n",
              "      <td>18168.00</td>\n",
              "      <td>12</td>\n",
              "      <td>1</td>\n",
              "      <td>0.564620</td>\n",
              "      <td>3</td>\n",
              "      <td>30000</td>\n",
              "      <td>10</td>\n",
              "      <td>1514.000000</td>\n",
              "    </tr>\n",
              "    <tr>\n",
              "      <th>91935</th>\n",
              "      <td>262682</td>\n",
              "      <td>1</td>\n",
              "      <td>41</td>\n",
              "      <td>2</td>\n",
              "      <td>13</td>\n",
              "      <td>10114.00</td>\n",
              "      <td>12</td>\n",
              "      <td>28</td>\n",
              "      <td>0.347262</td>\n",
              "      <td>3</td>\n",
              "      <td>30000</td>\n",
              "      <td>1</td>\n",
              "      <td>842.833333</td>\n",
              "    </tr>\n",
              "    <tr>\n",
              "      <th>91936</th>\n",
              "      <td>262683</td>\n",
              "      <td>1</td>\n",
              "      <td>33</td>\n",
              "      <td>3</td>\n",
              "      <td>13</td>\n",
              "      <td>14807.00</td>\n",
              "      <td>6</td>\n",
              "      <td>26</td>\n",
              "      <td>0.404430</td>\n",
              "      <td>3</td>\n",
              "      <td>30000</td>\n",
              "      <td>0</td>\n",
              "      <td>2467.833333</td>\n",
              "    </tr>\n",
              "    <tr>\n",
              "      <th>91937</th>\n",
              "      <td>262684</td>\n",
              "      <td>0</td>\n",
              "      <td>25</td>\n",
              "      <td>2</td>\n",
              "      <td>13</td>\n",
              "      <td>19718.00</td>\n",
              "      <td>10</td>\n",
              "      <td>19</td>\n",
              "      <td>0.341982</td>\n",
              "      <td>1</td>\n",
              "      <td>20000</td>\n",
              "      <td>1</td>\n",
              "      <td>1971.800000</td>\n",
              "    </tr>\n",
              "    <tr>\n",
              "      <th>91939</th>\n",
              "      <td>262686</td>\n",
              "      <td>1</td>\n",
              "      <td>44</td>\n",
              "      <td>2</td>\n",
              "      <td>13</td>\n",
              "      <td>31176.00</td>\n",
              "      <td>6</td>\n",
              "      <td>24</td>\n",
              "      <td>0.238366</td>\n",
              "      <td>1</td>\n",
              "      <td>40000</td>\n",
              "      <td>0</td>\n",
              "      <td>5196.000000</td>\n",
              "    </tr>\n",
              "  </tbody>\n",
              "</table>\n",
              "<p>87237 rows × 13 columns</p>\n",
              "</div>"
            ],
            "text/plain": [
              "       client_id  gender  age  ...  monthly_income  credit_count    month_sum\n",
              "0         170747       0   48  ...           34000            10  1655.800000\n",
              "1         170748       1   29  ...           19000            12  1171.453333\n",
              "2         170749       0   20  ...           25000             1  1301.900000\n",
              "3         170750       0   41  ...           30000             0   937.900000\n",
              "4         170751       0   31  ...           20000            10  2331.666667\n",
              "...          ...     ...  ...  ...             ...           ...          ...\n",
              "91934     262681       1   39  ...           30000            10  1514.000000\n",
              "91935     262682       1   41  ...           30000             1   842.833333\n",
              "91936     262683       1   33  ...           30000             0  2467.833333\n",
              "91937     262684       0   25  ...           20000             1  1971.800000\n",
              "91939     262686       1   44  ...           40000             0  5196.000000\n",
              "\n",
              "[87237 rows x 13 columns]"
            ]
          },
          "metadata": {},
          "execution_count": 108
        }
      ]
    },
    {
      "cell_type": "code",
      "metadata": {
        "id": "2dnV3U3H0-9N"
      },
      "source": [
        "submission = pd.DataFrame({'client_id' : client_id,\n",
        "                           'prediction' : best_tree.predict(test)})"
      ],
      "execution_count": 109,
      "outputs": []
    },
    {
      "cell_type": "code",
      "metadata": {
        "colab": {
          "base_uri": "https://localhost:8080/",
          "height": 195
        },
        "id": "RhdUb4y11VQr",
        "outputId": "525d1fc8-7f41-43d4-87fc-46ebe30a1771"
      },
      "source": [
        "submission.head()"
      ],
      "execution_count": 110,
      "outputs": [
        {
          "output_type": "execute_result",
          "data": {
            "text/html": [
              "<div>\n",
              "<style scoped>\n",
              "    .dataframe tbody tr th:only-of-type {\n",
              "        vertical-align: middle;\n",
              "    }\n",
              "\n",
              "    .dataframe tbody tr th {\n",
              "        vertical-align: top;\n",
              "    }\n",
              "\n",
              "    .dataframe thead th {\n",
              "        text-align: right;\n",
              "    }\n",
              "</style>\n",
              "<table border=\"1\" class=\"dataframe\">\n",
              "  <thead>\n",
              "    <tr style=\"text-align: right;\">\n",
              "      <th></th>\n",
              "      <th>client_id</th>\n",
              "      <th>prediction</th>\n",
              "    </tr>\n",
              "  </thead>\n",
              "  <tbody>\n",
              "    <tr>\n",
              "      <th>0</th>\n",
              "      <td>170747</td>\n",
              "      <td>0</td>\n",
              "    </tr>\n",
              "    <tr>\n",
              "      <th>1</th>\n",
              "      <td>170748</td>\n",
              "      <td>1</td>\n",
              "    </tr>\n",
              "    <tr>\n",
              "      <th>2</th>\n",
              "      <td>170749</td>\n",
              "      <td>1</td>\n",
              "    </tr>\n",
              "    <tr>\n",
              "      <th>3</th>\n",
              "      <td>170750</td>\n",
              "      <td>0</td>\n",
              "    </tr>\n",
              "    <tr>\n",
              "      <th>4</th>\n",
              "      <td>170751</td>\n",
              "      <td>1</td>\n",
              "    </tr>\n",
              "  </tbody>\n",
              "</table>\n",
              "</div>"
            ],
            "text/plain": [
              "   client_id  prediction\n",
              "0     170747           0\n",
              "1     170748           1\n",
              "2     170749           1\n",
              "3     170750           0\n",
              "4     170751           1"
            ]
          },
          "metadata": {},
          "execution_count": 110
        }
      ]
    },
    {
      "cell_type": "code",
      "metadata": {
        "id": "yyA_K9jJ4UQ7"
      },
      "source": [
        "submission = submission.to_csv('submission.csv')"
      ],
      "execution_count": 111,
      "outputs": []
    }
  ]
}